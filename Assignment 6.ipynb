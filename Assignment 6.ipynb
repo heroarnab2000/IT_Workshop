{
 "cells": [
  {
   "cell_type": "markdown",
   "metadata": {},
   "source": [
    "# Name: Arnab Das  CSE  2nd Year  Roll: 17"
   ]
  },
  {
   "cell_type": "code",
   "execution_count": 1,
   "metadata": {},
   "outputs": [
    {
     "name": "stdout",
     "output_type": "stream",
     "text": [
      "Enter the number of players in team 1: 5\n",
      "Enter the name: Sunil Gavaskar\n",
      "Enter the name: Sourav Ganguly\n",
      "Enter the name: MS Dhoni\n",
      "Enter the name: Shane Warne\n",
      "Enter the name: Jacques Kallis\n",
      "Enter the number of players in team 2: 5\n",
      "Enter the name: Brian Lara\n",
      "Enter the name: Sachin Tendulkar\n",
      "Enter the name: Adam Gilchrist\n",
      "Enter the name: Muthaiah Muralidharan\n",
      "Enter the name: John Ambrose\n",
      "Players present at ground:  [['Sunil Gavaskar', 'Sourav Ganguly', 'MS Dhoni', 'Shane Warne', 'Jacques Kallis'], ['Brian Lara', 'Sachin Tendulkar', 'Adam Gilchrist', 'Muthaiah Muralidharan', 'John Ambrose']]\n"
     ]
    }
   ],
   "source": [
    "try:\n",
    "    team1, team2, players = [], [], []\n",
    "    \n",
    "    for i in range (int(input(\"Enter the number of players in team 1: \"))):\n",
    "        team1.append(input(\"Enter the name: \"))\n",
    "    \n",
    "    for i in range (int(input(\"Enter the number of players in team 2: \"))):\n",
    "        team2.append(input(\"Enter the name: \"))  \n",
    "    \n",
    "    players.append(team1)\n",
    "    players.append(team2)\n",
    "    print(\"Players present at ground: \", players)\n",
    "    \n",
    "except:\n",
    "    print(\"Enter a valid range!!\")"
   ]
  },
  {
   "cell_type": "code",
   "execution_count": 2,
   "metadata": {},
   "outputs": [
    {
     "name": "stdout",
     "output_type": "stream",
     "text": [
      "Enter elements separated by a space: 1 2 1 2 3 5 4 6 9 8 5 2 2 1 4 2 3\n",
      "Frequencies of the elements are: \n",
      "1 :  3\n",
      "2 :  5\n",
      "3 :  2\n",
      "5 :  2\n",
      "4 :  2\n",
      "6 :  1\n",
      "9 :  1\n",
      "8 :  1\n"
     ]
    }
   ],
   "source": [
    "try:\n",
    "    l = list(input(\"Enter elements separated by a space: \").split())\n",
    "\n",
    "    frequency = {} \n",
    "    for item in l: \n",
    "        frequency[item] = l.count(item) \n",
    "\n",
    "    print(\"Frequencies of the elements are: \")\n",
    "    for key, value in frequency.items(): \n",
    "        print (str(key) + \" :  \" + str(value))\n",
    "        \n",
    "except:\n",
    "    print(\"Enter elements seperated by a single space!!\")"
   ]
  },
  {
   "cell_type": "code",
   "execution_count": 3,
   "metadata": {},
   "outputs": [
    {
     "name": "stdout",
     "output_type": "stream",
     "text": [
      "Enter elements separated by a space: 1 2 1 2 3 5 4 6 9 8 5 2 2 1 4 2 3\n",
      "The sorted list is:  ['1', '1', '1', '2', '2', '2', '2', '2', '3', '3', '4', '4', '5', '5', '6', '8', '9']\n"
     ]
    }
   ],
   "source": [
    "try:\n",
    "    test_lst = list(input(\"Enter elements separated by a space: \").split())\n",
    "    test_lst.sort()\n",
    "    print(\"The sorted list is: \", test_lst)\n",
    "    \n",
    "except:\n",
    "    print(\"Enter homogeneous elements!!\")"
   ]
  },
  {
   "cell_type": "code",
   "execution_count": 4,
   "metadata": {},
   "outputs": [
    {
     "name": "stdout",
     "output_type": "stream",
     "text": [
      "Enter elements separated by a space: 1 2 1 2 3 5 4 6 9 8 5 2 2 1 4 2 3\n",
      "Enter the element to search for: 1\n",
      "Element found in position:  1\n",
      "Element found in position:  3\n",
      "Element found in position:  14\n"
     ]
    }
   ],
   "source": [
    "try:\n",
    "    lst = list(input(\"Enter elements separated by a space: \").split())\n",
    "    key = input(\"Enter the element to search for: \")\n",
    "    \n",
    "    flag = 0\n",
    "    for i in range (len(lst) + flag):\n",
    "        if key in lst:\n",
    "            p = lst.index(key)\n",
    "            print(\"Element found in position: \", p + flag + 1)\n",
    "            lst.pop(p)\n",
    "            flag += 1\n",
    "    \n",
    "    if flag == 0:\n",
    "        print(\"Element is not present\")\n",
    "        \n",
    "except:\n",
    "    print(\"Enter elements seperated by a single space!!\")"
   ]
  },
  {
   "cell_type": "code",
   "execution_count": 5,
   "metadata": {},
   "outputs": [
    {
     "name": "stdout",
     "output_type": "stream",
     "text": [
      "Enter numbers, seperated by a space, of which tables are to be displayed: 1 2 3 4\n",
      "Enter the range of the table: 5\n",
      "The Tables of the numbers are:\n",
      "[1, 2, 3, 4]\n",
      "[2, 4, 6, 8]\n",
      "[3, 6, 9, 12]\n",
      "[4, 8, 12, 16]\n",
      "[5, 10, 15, 20]\n"
     ]
    }
   ],
   "source": [
    "try:\n",
    "    table = []\n",
    "    numbers = list(map(int , input(\"Enter numbers, seperated by a space, of which tables are to be displayed: \").split()))\n",
    "    copy = []\n",
    "    r = int(input(\"Enter the range of the table: \"))\n",
    "\n",
    "    for i in range (r):\n",
    "        copy = [element * (i + 1) for element in numbers]\n",
    "        table.append(copy)\n",
    "    print(\"The Tables of the numbers are:\")    \n",
    "    for i in range (r):\n",
    "        print(table[i])\n",
    "        \n",
    "except:\n",
    "    print(\"Enter elements seperated by a single space!!\")"
   ]
  },
  {
   "cell_type": "code",
   "execution_count": 1,
   "metadata": {},
   "outputs": [
    {
     "name": "stdout",
     "output_type": "stream",
     "text": [
      "Enter numbers in list 1, separated by a space: 1 2 5 9 8 0\n",
      "Enter numbers in list 2, separated by a space: 1 2 7 9 8\n",
      "List 2 is greater in terms of consecutive elements\n"
     ]
    }
   ],
   "source": [
    "try:\n",
    "    l1 = list(map(int , input(\"Enter numbers in list 1, separated by a space: \").split()))\n",
    "    l2 = list(map(int , input(\"Enter numbers in list 2, separated by a space: \").split()))\n",
    "    if l1 > l2:\n",
    "        print(\"List 1 is greater in terms of consecutive elements\")\n",
    "    elif l2 > l1:\n",
    "        print(\"List 2 is greater in terms of consecutive elements\")\n",
    "    else:\n",
    "        print(\"Equal lists\")\n",
    "        \n",
    "except:\n",
    "    print(\"Enter elements seperated by a single space!!\")"
   ]
  },
  {
   "cell_type": "code",
   "execution_count": null,
   "metadata": {},
   "outputs": [],
   "source": []
  },
  {
   "cell_type": "markdown",
   "metadata": {},
   "source": [
    "## Questionnaires\n",
    "\n",
    "\n",
    "1.   Why lists are called mutable?\n",
    " \n",
    "Ans. Mutability is the ability for certain types of data to be changed without entirely recreating it. Lists can be modified        and altered (i.e. adding new elements, removing an element, replacing an element) even after creating an object. This is        why Lists are called mitable data types.\n",
    "\n",
    "2.   What are the advantages of using list compared to array in C?\n",
    "\n",
    "Ans. Array in C are immutable and cannot be altered without declaration thus this decreases the effieciency and usability of        the array. On the other hand, lists are mutable and can be altered at execution time. Adding new elements, removing an          element, replacing an element are all dynamic in python"
   ]
  }
 ],
 "metadata": {
  "kernelspec": {
   "display_name": "Python 3",
   "language": "python",
   "name": "python3"
  },
  "language_info": {
   "codemirror_mode": {
    "name": "ipython",
    "version": 3
   },
   "file_extension": ".py",
   "mimetype": "text/x-python",
   "name": "python",
   "nbconvert_exporter": "python",
   "pygments_lexer": "ipython3",
   "version": "3.8.3"
  }
 },
 "nbformat": 4,
 "nbformat_minor": 4
}
