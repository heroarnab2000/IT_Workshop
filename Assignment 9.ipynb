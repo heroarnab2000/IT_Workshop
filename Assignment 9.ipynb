{
 "cells": [
  {
   "cell_type": "markdown",
   "metadata": {},
   "source": [
    "# Name: Arnab Das Roll: 17"
   ]
  },
  {
   "cell_type": "code",
   "execution_count": null,
   "metadata": {},
   "outputs": [],
   "source": []
  },
  {
   "cell_type": "markdown",
   "metadata": {},
   "source": [
    "### 1) Create a list of strings. Write a Python program which creates another list from the first taking the first character from each word."
   ]
  },
  {
   "cell_type": "code",
   "execution_count": 1,
   "metadata": {},
   "outputs": [
    {
     "name": "stdout",
     "output_type": "stream",
     "text": [
      "Enter strings separated by a space: Arnab Pompom Sumi Shounak Aniket Subham Triasa Arijit Prajeet Madhu\n",
      "The first letter of each input word is:  ['A', 'P', 'S', 'S', 'A', 'S', 'T', 'A', 'P', 'M']\n"
     ]
    }
   ],
   "source": [
    "try:\n",
    "    lst = list(input(\"Enter strings separated by a space: \").split())\n",
    "    \n",
    "    letter = []\n",
    "    for item in lst: \n",
    "        letter.append(item[0])\n",
    "        \n",
    "    print(\"The first letter of each input word is: \", letter)\n",
    "    \n",
    "except:\n",
    "    print(\"Enter elements seperated by a single space!!\")"
   ]
  },
  {
   "cell_type": "code",
   "execution_count": null,
   "metadata": {},
   "outputs": [],
   "source": []
  },
  {
   "cell_type": "markdown",
   "metadata": {},
   "source": [
    "### 2) Write a Python program that prompts the user to enter an alphabet. Print all the words in the list that starts with that alphabet."
   ]
  },
  {
   "cell_type": "code",
   "execution_count": 2,
   "metadata": {},
   "outputs": [
    {
     "name": "stdout",
     "output_type": "stream",
     "text": [
      "Enter arbritrary strings separated by a space: Arnab Pompom Sumi Shounak Aniket Subham Triasa Arijit Prajeet Madhu\n",
      "Enter a letter: S\n",
      "Word/s starting with the entered letter is/are:  ['Sumi', 'Shounak', 'Subham']\n"
     ]
    }
   ],
   "source": [
    "try:\n",
    "    lst = list(input(\"Enter arbritrary strings separated by a space: \").split())\n",
    "    flag = input(\"Enter a letter: \")\n",
    "    res = []\n",
    "    \n",
    "    for item in lst:\n",
    "        if item[0] == flag:\n",
    "            res.append(item)\n",
    "            \n",
    "    print(\"Word/s starting with the entered letter is/are: \", res)\n",
    "    \n",
    "except:\n",
    "    print(\"Enter elements seperated by a single space!!\")"
   ]
  },
  {
   "cell_type": "code",
   "execution_count": null,
   "metadata": {},
   "outputs": [],
   "source": []
  },
  {
   "cell_type": "markdown",
   "metadata": {},
   "source": [
    "### 3) Write a Python program to implement user-defines stack."
   ]
  },
  {
   "cell_type": "code",
   "execution_count": 3,
   "metadata": {},
   "outputs": [
    {
     "name": "stdout",
     "output_type": "stream",
     "text": [
      "Enter you choice:\n",
      "1. Create stack with an element\n",
      "2. PUSH element\n",
      "3. POP element\n",
      "4. Display top element\n",
      "5. Display size of stack\n",
      "6. Display Stack\n",
      "7. EXIT\n",
      "1\n",
      "Enter 1st element in stack: 10\n",
      "\n",
      "Enter you choice:\n",
      "1. Create stack with an element\n",
      "2. PUSH element\n",
      "3. POP element\n",
      "4. Display top element\n",
      "5. Display size of stack\n",
      "6. Display Stack\n",
      "7. EXIT\n",
      "1\n",
      "Stack is not empty! Please perform PUSH operation to enter new element!\n",
      "\n",
      "Enter you choice:\n",
      "1. Create stack with an element\n",
      "2. PUSH element\n",
      "3. POP element\n",
      "4. Display top element\n",
      "5. Display size of stack\n",
      "6. Display Stack\n",
      "7. EXIT\n",
      "2\n",
      "Enter element in stack: 20\n",
      "\n",
      "Enter you choice:\n",
      "1. Create stack with an element\n",
      "2. PUSH element\n",
      "3. POP element\n",
      "4. Display top element\n",
      "5. Display size of stack\n",
      "6. Display Stack\n",
      "7. EXIT\n",
      "2\n",
      "Enter element in stack: 30\n",
      "\n",
      "Enter you choice:\n",
      "1. Create stack with an element\n",
      "2. PUSH element\n",
      "3. POP element\n",
      "4. Display top element\n",
      "5. Display size of stack\n",
      "6. Display Stack\n",
      "7. EXIT\n",
      "5\n",
      "The size of the stack is:  3\n",
      "\n",
      "Enter you choice:\n",
      "1. Create stack with an element\n",
      "2. PUSH element\n",
      "3. POP element\n",
      "4. Display top element\n",
      "5. Display size of stack\n",
      "6. Display Stack\n",
      "7. EXIT\n",
      "2\n",
      "Enter element in stack: 40\n",
      "\n",
      "Enter you choice:\n",
      "1. Create stack with an element\n",
      "2. PUSH element\n",
      "3. POP element\n",
      "4. Display top element\n",
      "5. Display size of stack\n",
      "6. Display Stack\n",
      "7. EXIT\n",
      "2\n",
      "Enter element in stack: 50\n",
      "\n",
      "Enter you choice:\n",
      "1. Create stack with an element\n",
      "2. PUSH element\n",
      "3. POP element\n",
      "4. Display top element\n",
      "5. Display size of stack\n",
      "6. Display Stack\n",
      "7. EXIT\n",
      "6\n",
      "The stack is: \n",
      "50\n",
      "40\n",
      "30\n",
      "20\n",
      "10\n",
      "\n",
      "Enter you choice:\n",
      "1. Create stack with an element\n",
      "2. PUSH element\n",
      "3. POP element\n",
      "4. Display top element\n",
      "5. Display size of stack\n",
      "6. Display Stack\n",
      "7. EXIT\n",
      "3\n",
      "Popped element is:  50\n",
      "\n",
      "Enter you choice:\n",
      "1. Create stack with an element\n",
      "2. PUSH element\n",
      "3. POP element\n",
      "4. Display top element\n",
      "5. Display size of stack\n",
      "6. Display Stack\n",
      "7. EXIT\n",
      "4\n",
      "Top element in the stack is:  40\n",
      "\n",
      "Enter you choice:\n",
      "1. Create stack with an element\n",
      "2. PUSH element\n",
      "3. POP element\n",
      "4. Display top element\n",
      "5. Display size of stack\n",
      "6. Display Stack\n",
      "7. EXIT\n",
      "7\n",
      "Thank You!!\n"
     ]
    }
   ],
   "source": [
    "try:\n",
    "    ch = True\n",
    "    stack = []\n",
    "    while ch is True:\n",
    "        choice = int(input(\"Enter you choice:\\n1. Create stack with an element\\n2. PUSH element\\n3. POP element\\n4. Display top element\\n5. Display size of stack\\n6. Display Stack\\n7. EXIT\\n\"))\n",
    "        \n",
    "        if choice == 1:\n",
    "            if len(stack) == 0:\n",
    "                stack.append(input(\"Enter 1st element in stack: \"))\n",
    "                print()\n",
    "            else:\n",
    "                print(\"Stack is not empty! Please perform PUSH operation to enter new element!\\n\")\n",
    "        \n",
    "        elif choice == 2:\n",
    "            stack.append(input(\"Enter element in stack: \"))\n",
    "            print()\n",
    "            \n",
    "        elif choice == 3:\n",
    "            print(\"Popped element is: \", stack.pop())\n",
    "            print()\n",
    "            \n",
    "        elif choice == 4:\n",
    "            print(\"Top element in the stack is: \", stack[-1])\n",
    "            print()\n",
    "        \n",
    "        elif choice == 5:\n",
    "            print(\"The size of the stack is: \", len(stack))\n",
    "            print()\n",
    "            \n",
    "        elif choice == 6:\n",
    "            print(\"The stack is: \")\n",
    "            for i in range (0, len(stack)):\n",
    "                print(stack[- (1 + i)])\n",
    "            print()\n",
    "            \n",
    "        elif choice == 7:\n",
    "            print(\"Thank You!!\")\n",
    "            ch = False\n",
    "            \n",
    "        else:\n",
    "            print(\"Wrong Input! Redirecting to main menu!!\\n\")\n",
    "            \n",
    "except:\n",
    "    print(\"Wrong Input!!\")"
   ]
  },
  {
   "cell_type": "code",
   "execution_count": null,
   "metadata": {},
   "outputs": [],
   "source": []
  },
  {
   "cell_type": "markdown",
   "metadata": {},
   "source": [
    "### 4) Write a program in Python to do slicing in all possible ways with all possible parameters, providing positive and negative values for step. Also, perform slicing from start and end both."
   ]
  },
  {
   "cell_type": "code",
   "execution_count": 4,
   "metadata": {},
   "outputs": [
    {
     "name": "stdout",
     "output_type": "stream",
     "text": [
      "(5, 4)\n",
      "(2, 4, 3, 5, 4, 6)\n",
      "(6, 7, 8, 6, 1)\n",
      "(2, 4, 3, 5, 4, 6, 7, 8, 6, 1)\n",
      "(3, 5, 4, 6)\n",
      "('H', 'E', 'L', 'L', 'O', ' ', 'W', 'O', 'R', 'L', 'D')\n",
      "('L', 'O', 'W', 'R')\n",
      "('H', 'O', 'R')\n",
      "('L', ' ')\n"
     ]
    }
   ],
   "source": [
    "\n",
    "#create a tuple\n",
    "tuplex = (2, 4, 3, 5, 4, 6, 7, 8, 6, 1)\n",
    "\n",
    "#used tuple[start:stop] the start index is inclusive and the stop index\n",
    "slice = tuplex[3:5]\n",
    "\n",
    "#is exclusive\n",
    "print(slice)\n",
    "\n",
    "#if the start index isn&#39;t defined, is taken from the beg inning of the tuple\n",
    "slice = tuplex[:6]\n",
    "print(slice)\n",
    "\n",
    "#if the end index isn&#39;t defined, is taken until the end of the tuple\n",
    "slice = tuplex[5:]\n",
    "print(slice)\n",
    "\n",
    "#if neither is defined, returns the full tuple\n",
    "slice = tuplex[:]\n",
    "print(slice)\n",
    "\n",
    "#The indexes can be defined with negative values\n",
    "slice = tuplex[-8:-4]\n",
    "print(slice)\n",
    "\n",
    "#create another tuple\n",
    "tuplex = tuple('HELLO WORLD')\n",
    "print(tuplex)\n",
    "\n",
    "#step specify an increment between the elements to cut of the tuple\n",
    "\n",
    "#tuple[start:stop:step]\n",
    "slice = tuplex[2:9:2]\n",
    "print(slice)\n",
    "\n",
    "#returns a tuple with a jump every 3 items\n",
    "slice = tuplex[::4]\n",
    "print(slice)\n",
    "\n",
    "#when step is negative the jump is made back\n",
    "slice = tuplex[9:2:-4]\n",
    "print(slice)"
   ]
  },
  {
   "cell_type": "code",
   "execution_count": null,
   "metadata": {},
   "outputs": [],
   "source": []
  },
  {
   "cell_type": "markdown",
   "metadata": {},
   "source": [
    "### 5) Write a Python program to count the elements in a list until an element is a tuple."
   ]
  },
  {
   "cell_type": "code",
   "execution_count": 5,
   "metadata": {},
   "outputs": [
    {
     "name": "stdout",
     "output_type": "stream",
     "text": [
      "5\n"
     ]
    }
   ],
   "source": [
    "num = [10, 20, 30, 40, 50, (10, 20), 60]\n",
    "count = 0\n",
    "for n in num:\n",
    "    if isinstance(n, tuple):\n",
    "        break\n",
    "    count += 1\n",
    "print(count)"
   ]
  },
  {
   "cell_type": "code",
   "execution_count": null,
   "metadata": {},
   "outputs": [],
   "source": []
  },
  {
   "cell_type": "markdown",
   "metadata": {},
   "source": [
    "### 6) Write a Python program that displays information about an employee. Use nested dictionary to do this task."
   ]
  },
  {
   "cell_type": "code",
   "execution_count": 2,
   "metadata": {},
   "outputs": [
    {
     "name": "stdout",
     "output_type": "stream",
     "text": [
      "Number of employees:3\n",
      "Employee No. 1\n",
      "Enter employee ID: 180021\n",
      "Enter name of the employee: Arnab Das\n",
      "Enter gender of the employee: Male\n",
      "Enter age of the employee: 27\n",
      "Enter department of the employee: Google API Management\n",
      "Enter designation of the employee: Project manager\n",
      "\n",
      "Employee is given the data ID:1\n",
      "\n",
      "Employee No. 2\n",
      "Enter employee ID: 180035\n",
      "Enter name of the employee: Prajeet Guhaaaaa\n",
      "Enter gender of the employee: Unknown\n",
      "Enter age of the employee: 26\n",
      "Enter department of the employee: Google smart lens\n",
      "Enter designation of the employee: Executive Officer\n",
      "\n",
      "Employee is given the data ID:2\n",
      "\n",
      "Employee No. 3\n",
      "Enter employee ID: 190022\n",
      "Enter name of the employee: Arijit Banerjee\n",
      "Enter gender of the employee: Male\n",
      "Enter age of the employee: 27\n",
      "Enter department of the employee: Cyberpunk Development\n",
      "Enter designation of the employee: Glitch manager\n",
      "\n",
      "Employee is given the data ID:3\n",
      "\n",
      "Enter data ID for report: 2\n",
      "Prajeet Guhaaaaa is a Unknown employee of age 26.\n",
      "His/Her employee ID is: 180035.\n",
      "The employee is designated as Executive Officer to the Google smart lens department.\n"
     ]
    }
   ],
   "source": [
    "while True:\n",
    "    try:\n",
    "        n = int(input('Number of employees:'))\n",
    "        d = {}\n",
    "\n",
    "        for i in range(n):\n",
    "            employee = {}\n",
    "\n",
    "            print(f'Employee No. {i+1}')\n",
    "\n",
    "            employee['id'] = input('Enter employee ID: ')\n",
    "            employee['name'] = input('Enter name of the employee: ')\n",
    "            employee['gender'] = input('Enter gender of the employee: ')\n",
    "            employee['age'] = int(input('Enter age of the employee: '))\n",
    "            employee['department'] = input('Enter department of the employee: ')\n",
    "            employee['designation'] = input('Enter designation of the employee: ')\n",
    "\n",
    "            d[i] = employee\n",
    "            print(f'\\nEmployee is given the data ID:{i+1}\\n')\n",
    "\n",
    "        search = int(input('Enter data ID for report: '))\n",
    "        search = search - 1\n",
    "\n",
    "        print(f\"{d[search]['name']} is a {d[search]['gender']} employee of age {d[search]['age']}.\\nHis/Her employee ID is: {d[search]['id']}.\\nThe employee is designated as {d[search]['designation']} to the {d[search]['department']} department.\")\n",
    "        break\n",
    "\n",
    "    except:\n",
    "        print(\"Wrong input!!\")"
   ]
  },
  {
   "cell_type": "code",
   "execution_count": null,
   "metadata": {},
   "outputs": [],
   "source": []
  },
  {
   "cell_type": "markdown",
   "metadata": {},
   "source": [
    "### 7) Create a dictionary of products purchased and their MRPs. Calculate the bill and display to the customer."
   ]
  },
  {
   "cell_type": "code",
   "execution_count": 3,
   "metadata": {},
   "outputs": [
    {
     "name": "stdout",
     "output_type": "stream",
     "text": [
      "Enter name of products and MRP separated by a colon in dictionary (name:MRP{int}). After each input use a space for next: Rice:90 Potato:40 Oil:45 Fish:90 Chicken:130 Salt:35\n",
      "Enter the products bought, seperated by a space: Rice Oil Chicken Salt\n",
      "\n",
      "---Generating bill---\n",
      "Rice    :    90\n",
      "Oil    :    45\n",
      "Chicken    :    130\n",
      "Salt    :    35\n",
      "Your net balance is:  300\n"
     ]
    }
   ],
   "source": [
    "try:\n",
    "    products = {}\n",
    "    items = input(\"Enter name of products and MRP separated by a colon in dictionary (name:MRP{int}). After each input use a space for next: \").split(' ')\n",
    "\n",
    "    for item in items:\n",
    "        key, value = item.split(':')\n",
    "        value = int(value)\n",
    "\n",
    "        if key not in products.keys():\n",
    "            products[key] = value\n",
    "        else:\n",
    "            print (f'The product, {key}, is repeated and hence ignored.')\n",
    "        \n",
    "    purchased = list(input(\"Enter the products bought, seperated by a space: \").split(' '))\n",
    "    \n",
    "    print(\"\\n---Generating bill---\")\n",
    "    \n",
    "    net = 0\n",
    "    for items in purchased:\n",
    "        if items in products.keys():\n",
    "            print(f'{items}    :    {products[items]}')\n",
    "            net = net + products[items]\n",
    "            \n",
    "    print('Your net balance is: ', net)\n",
    "    \n",
    "except:\n",
    "    print(\"Wrong Input!!\")"
   ]
  },
  {
   "cell_type": "code",
   "execution_count": null,
   "metadata": {},
   "outputs": [],
   "source": []
  },
  {
   "cell_type": "markdown",
   "metadata": {},
   "source": [
    "### 8) Write a program that has a dictionary of your friends’ name (as keys) and their birthdays. Print the items in the dictionary in a sorted order. Prompt the user to enter a name and check if it is present in the dictionary. If the name does not exist, then ask the user to enter DOB. Add the details in the dictionary."
   ]
  },
  {
   "cell_type": "code",
   "execution_count": 4,
   "metadata": {},
   "outputs": [
    {
     "name": "stdout",
     "output_type": "stream",
     "text": [
      "Number of friends:3\n",
      "Entry No. 1\n",
      "Enter DOB (format:{DD/MM/YYYY}): 27/08/2000\n",
      "Enter name: Arnab\n",
      "Entry No. 2\n",
      "Enter DOB (format:{DD/MM/YYYY}): 29/09/2000\n",
      "Enter name: Tiyasha\n",
      "Entry No. 3\n",
      "Enter DOB (format:{DD/MM/YYYY}): 24/08/2000\n",
      "Enter name: Sumi\n",
      "Sumi : 24/08/2000\n",
      "Enter name of your friend: Prajeet\n",
      "Record is not present!! please enter DOB of your friend: 24/02/2000\n"
     ]
    }
   ],
   "source": [
    "try:\n",
    "    n = int(input('Number of friends:'))\n",
    "\n",
    "    for i in range(n):\n",
    "        friends = {}\n",
    "\n",
    "        print(f'Entry No. {i+1}')\n",
    "\n",
    "        friends[input('Enter name: ')] = input('Enter DOB (format:{DD/MM/YYYY}): ')\n",
    "    \n",
    "    for key in sorted(friends):\n",
    "        print(key + ' : ' + friends[key])\n",
    "        \n",
    "    search = input('Enter name of your friend: ')\n",
    "\n",
    "    if search in friends.keys():\n",
    "        print(f'The DOB of {search} is {friends[search]}')\n",
    "    else:\n",
    "        DOB = input('Record is not present!! please enter DOB of your friend: ')\n",
    "        friends[search] = DOB\n",
    "\n",
    "except:\n",
    "    print(\"Wrong input!!\")"
   ]
  },
  {
   "cell_type": "code",
   "execution_count": null,
   "metadata": {},
   "outputs": [],
   "source": []
  }
 ],
 "metadata": {
  "kernelspec": {
   "display_name": "Python 3",
   "language": "python",
   "name": "python3"
  },
  "language_info": {
   "codemirror_mode": {
    "name": "ipython",
    "version": 3
   },
   "file_extension": ".py",
   "mimetype": "text/x-python",
   "name": "python",
   "nbconvert_exporter": "python",
   "pygments_lexer": "ipython3",
   "version": "3.8.3"
  }
 },
 "nbformat": 4,
 "nbformat_minor": 4
}
