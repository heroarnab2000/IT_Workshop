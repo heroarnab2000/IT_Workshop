{
 "cells": [
  {
   "cell_type": "markdown",
   "metadata": {},
   "source": [
    "# Name: Arnab Das  Roll: 17  Assignment 7"
   ]
  },
  {
   "cell_type": "markdown",
   "metadata": {},
   "source": [
    "###\n",
    "\n",
    "\n",
    "\n",
    "### Questions:"
   ]
  },
  {
   "cell_type": "markdown",
   "metadata": {},
   "source": [
    "\n",
    "\n",
    "\n",
    "\n",
    "#### a) Save a tuple. Print it. Delete it."
   ]
  },
  {
   "cell_type": "code",
   "execution_count": 1,
   "metadata": {
    "scrolled": false
   },
   "outputs": [
    {
     "name": "stdout",
     "output_type": "stream",
     "text": [
      "(1, 2, 3)\n"
     ]
    }
   ],
   "source": [
    "tup = (1, 2, 3)\n",
    "print(tup)"
   ]
  },
  {
   "cell_type": "code",
   "execution_count": 2,
   "metadata": {
    "scrolled": false
   },
   "outputs": [
    {
     "ename": "NameError",
     "evalue": "name 'tup' is not defined",
     "output_type": "error",
     "traceback": [
      "\u001b[1;31m---------------------------------------------------------------------------\u001b[0m",
      "\u001b[1;31mNameError\u001b[0m                                 Traceback (most recent call last)",
      "\u001b[1;32m<ipython-input-2-d5b633859619>\u001b[0m in \u001b[0;36m<module>\u001b[1;34m\u001b[0m\n\u001b[0;32m      1\u001b[0m \u001b[1;32mdel\u001b[0m\u001b[1;33m(\u001b[0m\u001b[0mtup\u001b[0m\u001b[1;33m)\u001b[0m\u001b[1;33m\u001b[0m\u001b[1;33m\u001b[0m\u001b[0m\n\u001b[1;32m----> 2\u001b[1;33m \u001b[0mprint\u001b[0m\u001b[1;33m(\u001b[0m\u001b[0mtup\u001b[0m\u001b[1;33m)\u001b[0m\u001b[1;33m\u001b[0m\u001b[1;33m\u001b[0m\u001b[0m\n\u001b[0m",
      "\u001b[1;31mNameError\u001b[0m: name 'tup' is not defined"
     ]
    }
   ],
   "source": [
    "del(tup)\n",
    "print(tup)"
   ]
  },
  {
   "cell_type": "markdown",
   "metadata": {},
   "source": [
    "##### tuple is declared with parenthesis (). del() function removes the complete tuple and printing the tuple after executing del() throws a NameError.\n",
    "\n",
    "\n",
    "\n",
    "\n"
   ]
  },
  {
   "cell_type": "markdown",
   "metadata": {},
   "source": [
    "#### b) Save two tuples. Concatenate them. Print it without using loops."
   ]
  },
  {
   "cell_type": "code",
   "execution_count": 3,
   "metadata": {},
   "outputs": [
    {
     "name": "stdout",
     "output_type": "stream",
     "text": [
      "(1, 2, 3, 10, 20, 30)\n"
     ]
    }
   ],
   "source": [
    "tup = (1, 2, 3)\n",
    "Next = (10, 20, 30)\n",
    "new = tup + Next\n",
    "print(new)"
   ]
  },
  {
   "cell_type": "markdown",
   "metadata": {},
   "source": [
    "##### Two or more tuples can be concatenated and create a new tuple by using '+' operator.\n",
    "\n",
    "\n",
    "\n"
   ]
  },
  {
   "cell_type": "markdown",
   "metadata": {},
   "source": [
    "#### c) Suppose a tuple contains one item. Now store the same item for five times without using loop."
   ]
  },
  {
   "cell_type": "code",
   "execution_count": 6,
   "metadata": {},
   "outputs": [
    {
     "name": "stdout",
     "output_type": "stream",
     "text": [
      "(5, 5, 5, 5, 5)\n"
     ]
    }
   ],
   "source": [
    "tup = (5,)\n",
    "tup = tup * 5\n",
    "print(tup)"
   ]
  },
  {
   "cell_type": "markdown",
   "metadata": {},
   "source": [
    "##### The comma separates the elements in a tuple. Multiplying this by 5, by default initiates copying the same element 5 times in the tuple. If the comma was not given, the tuple would have single element, here, 5. Multiplying then by 5 would just give 25.\n",
    "\n",
    "\n",
    "\n"
   ]
  },
  {
   "cell_type": "markdown",
   "metadata": {},
   "source": [
    "#### d) Save a tuple. Print i th to j th item without using loop."
   ]
  },
  {
   "cell_type": "code",
   "execution_count": 7,
   "metadata": {},
   "outputs": [
    {
     "name": "stdout",
     "output_type": "stream",
     "text": [
      "(3, 10)\n"
     ]
    }
   ],
   "source": [
    "tup = (1, 2, 3, 10, 20, 30)\n",
    "print(tup[2 : 4])"
   ]
  },
  {
   "cell_type": "markdown",
   "metadata": {},
   "source": [
    "##### We can slice of elements in a tuple using indexing.\n",
    "\n",
    "\n",
    "\n"
   ]
  },
  {
   "cell_type": "markdown",
   "metadata": {},
   "source": [
    "#### e) Convert a tuple into a list and vice-versa."
   ]
  },
  {
   "cell_type": "code",
   "execution_count": 13,
   "metadata": {},
   "outputs": [
    {
     "name": "stdout",
     "output_type": "stream",
     "text": [
      "[1, 2, 3]\n",
      "(1, 2, 3)\n"
     ]
    }
   ],
   "source": [
    "tup = (1, 2, 3)\n",
    "new = list(tup)\n",
    "print(new)\n",
    "print(tuple(new))"
   ]
  },
  {
   "cell_type": "markdown",
   "metadata": {},
   "source": [
    "##### A tuple can be coverted to a list using list() function and a list can be coverted to a tuple using tuple() function.\n",
    "\n",
    "\n",
    "\n"
   ]
  },
  {
   "cell_type": "markdown",
   "metadata": {},
   "source": [
    "#### f) Find maximum and minimum item in a tuple. Find the length of a tuple."
   ]
  },
  {
   "cell_type": "code",
   "execution_count": 9,
   "metadata": {},
   "outputs": [
    {
     "data": {
      "text/plain": [
       "30"
      ]
     },
     "execution_count": 9,
     "metadata": {},
     "output_type": "execute_result"
    }
   ],
   "source": [
    "tup = (1, 2, 3, 10, 20, 30)\n",
    "max(tup)"
   ]
  },
  {
   "cell_type": "code",
   "execution_count": 10,
   "metadata": {},
   "outputs": [
    {
     "data": {
      "text/plain": [
       "1"
      ]
     },
     "execution_count": 10,
     "metadata": {},
     "output_type": "execute_result"
    }
   ],
   "source": [
    "min(tup)"
   ]
  },
  {
   "cell_type": "code",
   "execution_count": 11,
   "metadata": {},
   "outputs": [
    {
     "data": {
      "text/plain": [
       "6"
      ]
     },
     "execution_count": 11,
     "metadata": {},
     "output_type": "execute_result"
    }
   ],
   "source": [
    "len(tup)"
   ]
  },
  {
   "cell_type": "markdown",
   "metadata": {},
   "source": [
    "##### Predefined functions can be used over a tuple.\n",
    "\n",
    "\n",
    "\n"
   ]
  },
  {
   "cell_type": "markdown",
   "metadata": {},
   "source": [
    "#### 1) Write a Python program to reverse a tuple."
   ]
  },
  {
   "cell_type": "code",
   "execution_count": 12,
   "metadata": {},
   "outputs": [
    {
     "name": "stdout",
     "output_type": "stream",
     "text": [
      "('e', 'c', 'r', 'u', 'o', 's', 'e', 'r', '3', 'w')\n",
      "(20, 15, 10, 5)\n"
     ]
    }
   ],
   "source": [
    "#create a tuple\n",
    "x = ('w3resource')\n",
    "\n",
    "# Reversed the tuple\n",
    "y = reversed(x)\n",
    "print(tuple(y))\n",
    "\n",
    "#create another tuple\n",
    "x = (5, 10, 15, 20)\n",
    "\n",
    "# Reversed the tuple\n",
    "y = reversed(x)\n",
    "print(tuple(y))"
   ]
  },
  {
   "cell_type": "markdown",
   "metadata": {},
   "source": [
    "##### Tuple is an iterable object. reversed() function operates on a tuple iterating on each element.\n",
    "\n",
    "\n",
    "\n"
   ]
  },
  {
   "cell_type": "markdown",
   "metadata": {},
   "source": [
    "#### 2) Write a Python program to count the elements in a list until an element is a tuple."
   ]
  },
  {
   "cell_type": "code",
   "execution_count": 4,
   "metadata": {},
   "outputs": [
    {
     "name": "stdout",
     "output_type": "stream",
     "text": [
      "3\n"
     ]
    }
   ],
   "source": [
    "num = [10, 20, 30, (10, 20), 40]\n",
    "count = 0\n",
    "for n in num:\n",
    "    if isinstance(n, tuple):\n",
    "        break\n",
    "    count += 1\n",
    "print(count)"
   ]
  },
  {
   "cell_type": "markdown",
   "metadata": {},
   "source": [
    "##### A tuple, as in  \"isinstance(x, (A, B, ...))\", may be given as the target to check against."
   ]
  },
  {
   "cell_type": "markdown",
   "metadata": {},
   "source": [
    "#### Write a Python program to find the index of an item of a tuple. Convert a string to a tuple. Check it for all possible parameters of index function. Check it for an item which is not present."
   ]
  },
  {
   "cell_type": "code",
   "execution_count": 5,
   "metadata": {},
   "outputs": [
    {
     "name": "stdout",
     "output_type": "stream",
     "text": [
      "('i', 'n', 'd', 'e', 'x', ' ', 't', 'u', 'p', 'l', 'e')\n",
      "8\n",
      "8\n",
      "3\n"
     ]
    },
    {
     "ename": "ValueError",
     "evalue": "tuple.index(x): x not in tuple",
     "output_type": "error",
     "traceback": [
      "\u001b[1;31m---------------------------------------------------------------------------\u001b[0m",
      "\u001b[1;31mValueError\u001b[0m                                Traceback (most recent call last)",
      "\u001b[1;32m<ipython-input-5-354caf03b26a>\u001b[0m in \u001b[0;36m<module>\u001b[1;34m\u001b[0m\n\u001b[0;32m     16\u001b[0m \u001b[1;33m\u001b[0m\u001b[0m\n\u001b[0;32m     17\u001b[0m \u001b[1;31m#if item not exists in the tuple return ValueError Exception\u001b[0m\u001b[1;33m\u001b[0m\u001b[1;33m\u001b[0m\u001b[1;33m\u001b[0m\u001b[0m\n\u001b[1;32m---> 18\u001b[1;33m \u001b[0mindex\u001b[0m \u001b[1;33m=\u001b[0m \u001b[0mtuplex\u001b[0m\u001b[1;33m.\u001b[0m\u001b[0mindex\u001b[0m\u001b[1;33m(\u001b[0m\u001b[1;34m\"y\"\u001b[0m\u001b[1;33m)\u001b[0m\u001b[1;33m\u001b[0m\u001b[1;33m\u001b[0m\u001b[0m\n\u001b[0m",
      "\u001b[1;31mValueError\u001b[0m: tuple.index(x): x not in tuple"
     ]
    }
   ],
   "source": [
    "#create a tuple\n",
    "tuplex = tuple(\"index tuple\")\n",
    "print(tuplex)\n",
    "\n",
    "#get index of the first item whose value is passed as parameter\n",
    "index = tuplex.index(\"p\")\n",
    "print(index)\n",
    "\n",
    "#define the index from which you want to search\n",
    "index = tuplex.index(\"p\", 5)\n",
    "print(index)\n",
    "\n",
    "#define the segment of the tuple to be searched\n",
    "index = tuplex.index(\"e\", 3, 6)\n",
    "print(index)\n",
    "\n",
    "#if item not exists in the tuple return ValueError Exception\n",
    "index = tuplex.index(\"y\")"
   ]
  },
  {
   "cell_type": "markdown",
   "metadata": {},
   "source": [
    "##### Tuple supports String objects as its elements and can be accessible using indexing."
   ]
  },
  {
   "cell_type": "markdown",
   "metadata": {},
   "source": [
    "#### Write a program in Python to do slicing in all possible ways with all possible parameters, providing positive and negative values for step. Also, perform slicing from start and end both."
   ]
  },
  {
   "cell_type": "code",
   "execution_count": 6,
   "metadata": {},
   "outputs": [
    {
     "name": "stdout",
     "output_type": "stream",
     "text": [
      "(5, 4)\n",
      "(2, 4, 3, 5, 4, 6)\n",
      "(6, 7, 8, 6, 1)\n",
      "(2, 4, 3, 5, 4, 6, 7, 8, 6, 1)\n",
      "(3, 5, 4, 6)\n",
      "('H', 'E', 'L', 'L', 'O', ' ', 'W', 'O', 'R', 'L', 'D')\n",
      "('L', 'O', 'W', 'R')\n",
      "('H', 'O', 'R')\n",
      "('L', ' ')\n"
     ]
    }
   ],
   "source": [
    "#create a tuple\n",
    "tuplex = (2, 4, 3, 5, 4, 6, 7, 8, 6, 1)\n",
    "\n",
    "#used tuple[start:stop] the start index is inclusive and the stop index\n",
    "slice = tuplex[3:5]\n",
    "\n",
    "#is exclusive\n",
    "print(slice)\n",
    "\n",
    "#if the start index isn&#39;t defined, is taken from the beg inning of the tuple\n",
    "slice = tuplex[:6]\n",
    "print(slice)\n",
    "\n",
    "#if the end index isn&#39;t defined, is taken until the end of the tuple\n",
    "slice = tuplex[5:]\n",
    "print(slice)\n",
    "\n",
    "#if neither is defined, returns the full tuple\n",
    "slice = tuplex[:]\n",
    "print(slice)\n",
    "\n",
    "#The indexes can be defined with negative values\n",
    "slice = tuplex[-8:-4]\n",
    "print(slice)\n",
    "\n",
    "#create another tuple\n",
    "tuplex = tuple('HELLO WORLD')\n",
    "print(tuplex)\n",
    "\n",
    "#step specify an increment between the elements to cut of the tuple\n",
    "\n",
    "#tuple[start:stop:step]\n",
    "slice = tuplex[2:9:2]\n",
    "print(slice)\n",
    "\n",
    "#returns a tuple with a jump every 3 items\n",
    "slice = tuplex[::4]\n",
    "print(slice)\n",
    "\n",
    "#when step is negative the jump is made back\n",
    "slice = tuplex[9:2:-4]\n",
    "print(slice)"
   ]
  },
  {
   "cell_type": "markdown",
   "metadata": {},
   "source": [
    "##### Various types of slicing functions can be performed on tuples."
   ]
  },
  {
   "cell_type": "code",
   "execution_count": null,
   "metadata": {},
   "outputs": [],
   "source": []
  }
 ],
 "metadata": {
  "kernelspec": {
   "display_name": "Python 3",
   "language": "python",
   "name": "python3"
  },
  "language_info": {
   "codemirror_mode": {
    "name": "ipython",
    "version": 3
   },
   "file_extension": ".py",
   "mimetype": "text/x-python",
   "name": "python",
   "nbconvert_exporter": "python",
   "pygments_lexer": "ipython3",
   "version": "3.8.3"
  }
 },
 "nbformat": 4,
 "nbformat_minor": 4
}
