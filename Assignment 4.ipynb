{
 "cells": [
  {
   "cell_type": "markdown",
   "metadata": {},
   "source": [
    "# Name: Arnab Das   Roll: 17"
   ]
  },
  {
   "cell_type": "code",
   "execution_count": 1,
   "metadata": {},
   "outputs": [
    {
     "name": "stdout",
     "output_type": "stream",
     "text": [
      "Enter a string: Malayalam\n",
      "Palindrome\n"
     ]
    }
   ],
   "source": [
    "try:\n",
    "    strng = input('Enter a string: ')\n",
    "    strng = strng.upper()\n",
    "    str_check = strng[::-1]\n",
    "        \n",
    "    if str_check == strng:\n",
    "        print('Palindrome')\n",
    "    else:\n",
    "        print('Not Palindrome')\n",
    "except:\n",
    "    print('Make sure to input valid a string')"
   ]
  },
  {
   "cell_type": "code",
   "execution_count": 2,
   "metadata": {},
   "outputs": [
    {
     "name": "stdout",
     "output_type": "stream",
     "text": [
      "Enter a sentence: Madam Mam malayalam Mam madam\n",
      "Palindrome\n"
     ]
    }
   ],
   "source": [
    "try:\n",
    "    strng = input('Enter a sentence: ')\n",
    "    words = strng.split(' ')\n",
    "    str_check = ''\n",
    "    for word in words:\n",
    "        str_check = str_check + word + ' '\n",
    "\n",
    "    if str_check[:-1] == strng:\n",
    "        print('Palindrome')\n",
    "    else:\n",
    "        print('Not Palindrome')\n",
    "    \n",
    "except:\n",
    "    print('Make sure to input valid a string')"
   ]
  },
  {
   "cell_type": "code",
   "execution_count": 3,
   "metadata": {},
   "outputs": [
    {
     "name": "stdout",
     "output_type": "stream",
     "text": [
      "Enter full name: Sandip Kumar Das\n",
      "The initials is:  S.K.D\n"
     ]
    }
   ],
   "source": [
    "try:\n",
    "    strng = input('Enter full name: ')\n",
    "    words = strng.split(' ')\n",
    "    str_check = ''\n",
    "    for word in words:\n",
    "        str_check = str_check + word[0] + '.'\n",
    "\n",
    "    print('The initials is: ', str_check[:-1])\n",
    "    \n",
    "except:\n",
    "    print('Make sure to input valid name')"
   ]
  },
  {
   "cell_type": "markdown",
   "metadata": {},
   "source": [
    "\n",
    "\n",
    "### Questionnaires \n",
    "\n",
    "1. What are the advantages of using slice of strings?\n",
    "Ans. Python provides an efficient way of slicing strings that makes it quite efficient to work with the substrings of the parent string. Slicing enables us to work with ease and desired size of the substring.\n",
    "\n",
    "2. Can you directly replace a character in string just by assigning? If not, state the reason. Also give the solution.\n",
    "Ans. In Python, a character in a string cannot directly be replaced by assigning because string data type is allotted as immutable. Thus the code, \n",
    "\t>>>a = 'Ride'\n",
    "\t>>>a.replace('R', 'T')\n",
    "\t>>>print(a)\n",
    "will basically end up printing ‘Ride’ instead of the desired result ‘Tide’.\n",
    "To overcome this, the simplest way is to re-assign the entire string with the operation. Wherein the code,\n",
    "\t>>> a = 'Ride'\n",
    "\t>>>a = a.replace('R', 'T')\n",
    "\t>>>print(a)\n",
    "would end up with the desired result 'Tide'.\n",
    "3. What is the use of negative index?\n",
    "Ans. Python becomes really handy when it comes to using negative numbers for indexing, best opted for slicing substrings. In case of an input iterable object, the later elements can be easily picked by using the negative indexing without even knowing the length of the object. Negative indexing used in iteration helps to determine the steps backward thus keeping it clean yet efficient.\n"
   ]
  }
 ],
 "metadata": {
  "kernelspec": {
   "display_name": "Python 3",
   "language": "python",
   "name": "python3"
  },
  "language_info": {
   "codemirror_mode": {
    "name": "ipython",
    "version": 3
   },
   "file_extension": ".py",
   "mimetype": "text/x-python",
   "name": "python",
   "nbconvert_exporter": "python",
   "pygments_lexer": "ipython3",
   "version": "3.8.3"
  }
 },
 "nbformat": 4,
 "nbformat_minor": 2
}
