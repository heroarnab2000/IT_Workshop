{
 "cells": [
  {
   "cell_type": "markdown",
   "metadata": {},
   "source": [
    "# Name: Arnab Das   Roll: 17"
   ]
  },
  {
   "cell_type": "code",
   "execution_count": 1,
   "metadata": {},
   "outputs": [
    {
     "name": "stdout",
     "output_type": "stream",
     "text": [
      "Enter a string: Malayalam\n",
      "Palindrome\n"
     ]
    }
   ],
   "source": [
    "try:\n",
    "    strng = input('Enter a string: ')\n",
    "    strng = strng.upper()\n",
    "    str_check = strng[::-1]\n",
    "        \n",
    "    if str_check == strng:\n",
    "        print('Palindrome')\n",
    "    else:\n",
    "        print('Not Palindrome')\n",
    "except:\n",
    "    print('Make sure to input valid a string')"
   ]
  },
  {
   "cell_type": "code",
   "execution_count": 2,
   "metadata": {},
   "outputs": [
    {
     "name": "stdout",
     "output_type": "stream",
     "text": [
      "Enter a sentence: Madam Mam malayalam Mam madam\n",
      "Palindrome\n"
     ]
    }
   ],
   "source": [
    "try:\n",
    "    strng = input('Enter a sentence: ')\n",
    "    words = strng.split(' ')\n",
    "    str_check = ''\n",
    "    for word in words:\n",
    "        str_check = str_check + word + ' '\n",
    "\n",
    "    if str_check[:-1] == strng:\n",
    "        print('Palindrome')\n",
    "    else:\n",
    "        print('Not Palindrome')\n",
    "    \n",
    "except:\n",
    "    print('Make sure to input valid a string')"
   ]
  },
  {
   "cell_type": "code",
   "execution_count": 3,
   "metadata": {},
   "outputs": [
    {
     "name": "stdout",
     "output_type": "stream",
     "text": [
      "Enter full name: Sandip Kumar Das\n",
      "The initials is:  S.K.D\n"
     ]
    }
   ],
   "source": [
    "try:\n",
    "    strng = input('Enter full name: ')\n",
    "    words = strng.split(' ')\n",
    "    str_check = ''\n",
    "    for word in words:\n",
    "        str_check = str_check + word[0] + '.'\n",
    "\n",
    "    print('The initials is: ', str_check[:-1])\n",
    "    \n",
    "except:\n",
    "    print('Make sure to input valid name')"
   ]
  }
 ],
 "metadata": {
  "kernelspec": {
   "display_name": "Python 3",
   "language": "python",
   "name": "python3"
  },
  "language_info": {
   "codemirror_mode": {
    "name": "ipython",
    "version": 3
   },
   "file_extension": ".py",
   "mimetype": "text/x-python",
   "name": "python",
   "nbconvert_exporter": "python",
   "pygments_lexer": "ipython3",
   "version": "3.8.3"
  }
 },
 "nbformat": 4,
 "nbformat_minor": 2
}
