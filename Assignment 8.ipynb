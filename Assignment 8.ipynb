{
 "cells": [
  {
   "cell_type": "markdown",
   "metadata": {},
   "source": [
    "# Name: Arnab Das Roll: 17 CSE 2nd Year"
   ]
  },
  {
   "cell_type": "code",
   "execution_count": null,
   "metadata": {},
   "outputs": [],
   "source": []
  },
  {
   "cell_type": "markdown",
   "metadata": {},
   "source": [
    "### 1) Write a program to get the maximum and minimum value in a dictionary."
   ]
  },
  {
   "cell_type": "code",
   "execution_count": 1,
   "metadata": {},
   "outputs": [
    {
     "name": "stdout",
     "output_type": "stream",
     "text": [
      "Enter choice\n",
      "\n",
      "1. Enter Cricket Team and points\n",
      "2. Display and Exit\n",
      "1\n",
      "Enter name of the Team: KKR\n",
      "Enter the points: 65\n",
      "Enter choice\n",
      "\n",
      "1. Enter Cricket Team and points\n",
      "2. Display and Exit\n",
      "1\n",
      "Enter name of the Team: CSK\n",
      "Enter the points: 98\n",
      "Enter choice\n",
      "\n",
      "1. Enter Cricket Team and points\n",
      "2. Display and Exit\n",
      "1\n",
      "Enter name of the Team: MI\n",
      "Enter the points: 93\n",
      "Enter choice\n",
      "\n",
      "1. Enter Cricket Team and points\n",
      "2. Display and Exit\n",
      "1\n",
      "Enter name of the Team: DC\n",
      "Enter the points: 89\n",
      "Enter choice\n",
      "\n",
      "1. Enter Cricket Team and points\n",
      "2. Display and Exit\n",
      "2\n",
      "Thank you!\n",
      "\n",
      "Scorecard: {'KKR': 65, 'CSK': 98, 'MI': 93, 'DC': 89}\n",
      "\n",
      "The strongest team is  CSK , with highest points  98\n",
      "The weakest team is,  KKR , with lowest points  65\n"
     ]
    }
   ],
   "source": [
    "try:\n",
    "    name, points = [], []\n",
    "    table = {}\n",
    "    ch = 0\n",
    "    \n",
    "    while(ch != 2):\n",
    "        ch = int(input(\"Enter choice\\n\\n1. Enter Cricket Team and points\\n2. Display and Exit\\n\"))\n",
    "\n",
    "        if ch == 1:\n",
    "            n = input(\"Enter name of the Team: \")\n",
    "            name.append(n)\n",
    "\n",
    "            p = int(input(\"Enter the points: \"))\n",
    "            points.append(p)\n",
    "\n",
    "        if ch == 2:\n",
    "            print(\"Thank you!\\n\")\n",
    "    \n",
    "    for i in range (0, len(name)):\n",
    "        table[name[i]] = points[i]\n",
    "    \n",
    "    maxpoints = max(table, key=table.get)\n",
    "    minpoints = min(table, key=table.get)\n",
    "    \n",
    "    print (\"Scorecard: \", end = '')\n",
    "    print (table, end = '\\n\\n')\n",
    "    print (\"The strongest team is \", maxpoints, end = ' ')\n",
    "    print (\", with highest points \", table[maxpoints])\n",
    "    print (\"The weakest team is, \", minpoints, end = ' ')\n",
    "    print (\", with lowest points \", table[minpoints])\n",
    "    \n",
    "except:\n",
    "    print (\"Wrong input!!\")"
   ]
  },
  {
   "cell_type": "code",
   "execution_count": null,
   "metadata": {},
   "outputs": [],
   "source": []
  },
  {
   "cell_type": "markdown",
   "metadata": {},
   "source": [
    "### 2) Write a program to store student data in dictionary (name, class, subjects). Remove duplicate entries."
   ]
  },
  {
   "cell_type": "code",
   "execution_count": 2,
   "metadata": {},
   "outputs": [
    {
     "name": "stdout",
     "output_type": "stream",
     "text": [
      "After ignoring the duplicate values\n",
      "\n",
      "1\n",
      "{'name': ['Arnab'], 'class': ['XII'], 'subject': ['Math, Science']}\n",
      "2\n",
      "{'name': ['Pom'], 'class': ['XII'], 'subject': ['English, Math, Science']}\n",
      "3\n",
      "{'name': ['Prajeet'], 'class': ['XII'], 'subject': ['Math, Science']}\n",
      "4\n",
      "{'name': ['Madhu'], 'class': ['XII'], 'subject': ['Math, English']}\n",
      "5\n",
      "{'name': ['Madhu'], 'class': ['XII'], 'subject': ['English, Math']}\n",
      "6\n",
      "{'name': ['Shounak'], 'class': ['XII'], 'subject': ['English, Science']}\n",
      "7\n",
      "{'name': ['Sumi'], 'class': ['XII'], 'subject': ['English, Math, Science']}\n",
      "8\n",
      "{'name': ['Aniket'], 'class': ['XII'], 'subject': ['English, Math, Science']}\n",
      "9\n",
      "{'name': ['Subham'], 'class': ['XII'], 'subject': ['Math, Science']}\n",
      "11\n",
      "{'name': ['Arijit'], 'class': ['XII'], 'subject': ['Science']}\n"
     ]
    }
   ],
   "source": [
    "data = {'1': \n",
    "   {'name': ['Arnab'], 'class': ['XII'], 'subject': ['Math, Science']},\n",
    "        '2': \n",
    "   {'name': ['Pom'], 'class': ['XII'], 'subject': ['English, Math, Science']},\n",
    "        '3': \n",
    "   {'name': ['Prajeet'], 'class': ['XII'], 'subject': ['Math, Science']},\n",
    "        '4': \n",
    "   {'name': ['Madhu'], 'class': ['XII'], 'subject': ['Math, English']},\n",
    "        '5': \n",
    "   {'name': ['Madhu'], 'class': ['XII'], 'subject': ['English, Math']},\n",
    "        '6': \n",
    "   {'name': ['Shounak'], 'class': ['XII'], 'subject': ['English, Science']},\n",
    "        '7': \n",
    "   {'name': ['Sumi'], 'class': ['XII'], 'subject': ['English, Math, Science']},\n",
    "        '8': \n",
    "   {'name': ['Aniket'], 'class': ['XII'], 'subject': ['English, Math, Science']},\n",
    "        '9': \n",
    "   {'name': ['Subham'], 'class': ['XII'], 'subject': ['Math, Science']},\n",
    "        '10': \n",
    "   {'name': ['Aniket'], 'class': ['XII'], 'subject': ['English, Math, Science']},\n",
    "        '11': \n",
    "   {'name': ['Arijit'], 'class': ['XII'], 'subject': ['Science']}}\n",
    "\n",
    "result = {}\n",
    "\n",
    "for key, value in data.items():\n",
    "    if value not in result.values():\n",
    "        result[key] = value\n",
    "\n",
    "print(\"After ignoring the duplicate values\\n\")\n",
    "\n",
    "for key, value in result.items():\n",
    "    print (key)\n",
    "    print (value)"
   ]
  },
  {
   "cell_type": "code",
   "execution_count": null,
   "metadata": {},
   "outputs": [],
   "source": []
  },
  {
   "cell_type": "markdown",
   "metadata": {},
   "source": [
    "### 3) Write a Python program to concatenate following dictionaries to create a new one using loop."
   ]
  },
  {
   "cell_type": "code",
   "execution_count": 1,
   "metadata": {},
   "outputs": [
    {
     "name": "stdout",
     "output_type": "stream",
     "text": [
      "Enter name and age separated by a comma in dictionary 1(name:age<class 'int'>): Arnab:20,Madhu:18,Prajeet:19\n",
      "Enter name and age separated by a comma in dictionary 2(name:age<class 'int'>): Pom:20,Shounak:20,Aniket:100\n",
      "Enter name and age separated by a comma in dictionary 3(name:age<class 'int'>): Triasa:5,Subham:200\n",
      "{'Arnab': 20, 'Madhu': 18, 'Prajeet': 19} {'Pom': 20, 'Shounak': 20, 'Aniket': 100} {'Triasa': 5, 'Subham': 200}\n",
      "The combined dictionary is:  {'Arnab': 20, 'Madhu': 18, 'Prajeet': 19, 'Pom': 20, 'Shounak': 20, 'Aniket': 100, 'Triasa': 5, 'Subham': 200}\n"
     ]
    }
   ],
   "source": [
    "try:\n",
    "    dic1, dic2, dic3, dic = {}, {}, {}, {}\n",
    "    for i in range (0, 3):\n",
    "        items = input(f\"Enter name and age separated by a comma in dictionary {i + 1}(name:age{int}): \").split(',')\n",
    "\n",
    "        for item in items:\n",
    "            key, value = item.split(':')\n",
    "            value = int(value)\n",
    "            \n",
    "            if i == 0:\n",
    "                if key not in dic1.keys():\n",
    "                    dic1[key] = value\n",
    "                else:\n",
    "                    print (f'The key {key} is repeated and hence ignored.')\n",
    "            elif i == 1:\n",
    "                if key not in dic2.keys():\n",
    "                    dic2[key] = value\n",
    "                else:\n",
    "                    print (f'The key {key} is repeated and hence ignored.')\n",
    "            else:\n",
    "                if key not in dic3.keys():\n",
    "                    dic3[key] = value\n",
    "                else:\n",
    "                    print (f'The key {key} is repeated and hence ignored.')\n",
    "    \n",
    "    print(dic1, dic2, dic3)\n",
    "    for d in (dic1, dic2, dic3):\n",
    "        dic.update(d)\n",
    "    \n",
    "    print(\"The combined dictionary is: \", dic)\n",
    "    \n",
    "except:\n",
    "    print (\"Wrong input!!\")"
   ]
  },
  {
   "cell_type": "code",
   "execution_count": null,
   "metadata": {},
   "outputs": [],
   "source": []
  },
  {
   "cell_type": "markdown",
   "metadata": {},
   "source": [
    "### 4) Write a Python program to multiply all the items in a dictionary."
   ]
  },
  {
   "cell_type": "code",
   "execution_count": 2,
   "metadata": {},
   "outputs": [
    {
     "name": "stdout",
     "output_type": "stream",
     "text": [
      "64\n"
     ]
    }
   ],
   "source": [
    "d = {'A': 2, 'B': 4, 'C' : 8}\n",
    "pro = 1\n",
    "\n",
    "for i in d:    \n",
    "    pro = pro * d[i]\n",
    "\n",
    "print(pro)"
   ]
  },
  {
   "cell_type": "code",
   "execution_count": null,
   "metadata": {},
   "outputs": [],
   "source": []
  },
  {
   "cell_type": "markdown",
   "metadata": {},
   "source": [
    "### 5) Write a Python program to sort a dictionary by key."
   ]
  },
  {
   "cell_type": "code",
   "execution_count": 3,
   "metadata": {},
   "outputs": [
    {
     "name": "stdout",
     "output_type": "stream",
     "text": [
      "Enter name and age separated by a comma in dictionary (name:age{int}): Arnab:20,Madhu:18,Prajeet:19,Pom:20,Shounak:20,Aniket:100\n",
      "('Aniket', 100) ('Arnab', 20) ('Madhu', 18) ('Pom', 20) ('Prajeet', 19) ('Shounak', 20) "
     ]
    }
   ],
   "source": [
    "try:\n",
    "    d = {}\n",
    "    items = input(\"Enter name and age separated by a comma in dictionary (name:age{int}): \").split(',')\n",
    "\n",
    "    for item in items:\n",
    "        key, value = item.split(':')\n",
    "        value = int(value)\n",
    "\n",
    "        if key not in d.keys():\n",
    "            d[key] = value\n",
    "        else:\n",
    "            print (f'The key {key} is repeated and hence ignored.')\n",
    "\n",
    "    for i in sorted (d) : \n",
    "        print ((i, d[i]), end =' ')\n",
    "        \n",
    "except:\n",
    "    print(\"Wrong input!!\")"
   ]
  },
  {
   "cell_type": "code",
   "execution_count": null,
   "metadata": {},
   "outputs": [],
   "source": []
  },
  {
   "cell_type": "markdown",
   "metadata": {},
   "source": [
    "### 6) Write a Python program to check a dictionary is empty or not."
   ]
  },
  {
   "cell_type": "code",
   "execution_count": 4,
   "metadata": {},
   "outputs": [
    {
     "name": "stdout",
     "output_type": "stream",
     "text": [
      "Dictionary is empty\n"
     ]
    }
   ],
   "source": [
    "diction = {}\n",
    "\n",
    "if not bool(diction):\n",
    "    print (\"Dictionary is empty\")\n",
    "else:\n",
    "    print (\"Dictionary is not empty\")"
   ]
  },
  {
   "cell_type": "code",
   "execution_count": null,
   "metadata": {},
   "outputs": [],
   "source": []
  },
  {
   "cell_type": "markdown",
   "metadata": {},
   "source": [
    "### 7) Write a Python program which creates two dictionaries. One that stores conversion values from meters to centimeters and the other that stores the reverse."
   ]
  },
  {
   "cell_type": "code",
   "execution_count": 5,
   "metadata": {},
   "outputs": [
    {
     "name": "stdout",
     "output_type": "stream",
     "text": [
      "{'m to mm': 1000, 'm to cm': 100, 'm to dm': 10}\n",
      "{'mm to m': 0.001, 'cm to m': 0.01, 'dm to m': 0.1}\n"
     ]
    }
   ],
   "source": [
    "dic1 = {'m to mm': 1000, 'm to cm': 100, 'm to dm': 10}\n",
    "dic2 = {'mm to m': 1 / dic1['m to mm'], 'cm to m': 1 / dic1['m to cm'], 'dm to m': 1 / dic1['m to dm']}\n",
    "\n",
    "print (dic1)\n",
    "print (dic2)"
   ]
  },
  {
   "cell_type": "code",
   "execution_count": null,
   "metadata": {},
   "outputs": [],
   "source": []
  },
  {
   "cell_type": "markdown",
   "metadata": {},
   "source": [
    "### 8) Write a Python program that inverts a dictionary, i.e., it makes key of one dictionary value of another and vice versa."
   ]
  },
  {
   "cell_type": "code",
   "execution_count": 7,
   "metadata": {},
   "outputs": [
    {
     "name": "stdout",
     "output_type": "stream",
     "text": [
      "Enter name and age separated by a comma in dictionary(name:age{int}): Pom:20,Prajeet:19,Aniket:100\n",
      "{20: 'Pom', 19: 'Prajeet', 100: 'Aniket'}\n"
     ]
    }
   ],
   "source": [
    "try:\n",
    "    d = {}\n",
    "    items = input(\"Enter name and age separated by a comma in dictionary(name:age{int}): \").split(',')\n",
    "\n",
    "    for item in items:\n",
    "        key, value = item.split(':')\n",
    "        value = int(value)\n",
    "\n",
    "        if key not in d.keys():\n",
    "            d[key] = value\n",
    "        else:\n",
    "            print (f'The key {key} is repeated and hence ignored.')\n",
    "    \n",
    "    revd = {value : key for (key, value) in d.items()}\n",
    "    print(revd)\n",
    "    \n",
    "except: \n",
    "    print(\"Wrong input!!\")"
   ]
  },
  {
   "cell_type": "code",
   "execution_count": null,
   "metadata": {},
   "outputs": [],
   "source": []
  },
  {
   "cell_type": "code",
   "execution_count": null,
   "metadata": {},
   "outputs": [],
   "source": []
  },
  {
   "cell_type": "markdown",
   "metadata": {},
   "source": [
    "### Questionnaire:\n",
    "\n",
    "\n",
    "1. What are the advantages of dictionary over list?\n",
    "\n",
    "Ans. Advantages of dictionary over lists in python are:\n\n",
    "        i)   It enhances the readability of the code.\n\n",
    "        ii)  Dictionary can hold upto larger spaces than list due to hashing process.\n\n",
    "        iii) Dictionaries are pair values and thus are preferable for key-value pair data.\n\n",
    "        iv)  Dictionariey is faster than list because the former follows a look up algorithm whereas the later is iterable."
   ]
  }
 ],
 "metadata": {
  "kernelspec": {
   "display_name": "Python 3",
   "language": "python",
   "name": "python3"
  },
  "language_info": {
   "codemirror_mode": {
    "name": "ipython",
    "version": 3
   },
   "file_extension": ".py",
   "mimetype": "text/x-python",
   "name": "python",
   "nbconvert_exporter": "python",
   "pygments_lexer": "ipython3",
   "version": "3.8.3"
  }
 },
 "nbformat": 4,
 "nbformat_minor": 4
}
