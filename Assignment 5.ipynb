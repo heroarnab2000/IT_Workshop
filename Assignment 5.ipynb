{
 "cells": [
  {
   "cell_type": "markdown",
   "metadata": {},
   "source": [
    "# Name- Arnab Das   Roll- 17"
   ]
  },
  {
   "cell_type": "code",
   "execution_count": 1,
   "metadata": {},
   "outputs": [
    {
     "name": "stdout",
     "output_type": "stream",
     "text": [
      "Enter a sentence: Hello World!! I am Arnab Das.\n",
      "\n",
      "Counter table:\n",
      "Words: 6\n",
      "Vowels: 8\n",
      "Consonants: 13\n",
      "Punctuation: 3\n"
     ]
    }
   ],
   "source": [
    "sentence = input ('Enter a sentence: ')\n",
    "sentence = sentence.upper()\n",
    "space, vowel, consonant, digit, punctuation, special = 0, 0, 0, 0, 0, 0\n",
    "consonant\n",
    "for letter in sentence:\n",
    "    if letter >= 'A' and letter <= 'Z':  \n",
    "        if letter == 'A' or letter == 'E' or letter == 'I' or letter == 'O' or letter == 'U': \n",
    "            vowel += 1\n",
    "        else: \n",
    "            consonant += 1\n",
    "            \n",
    "    elif letter >= '0' and letter <= '9': \n",
    "        digit += 1\n",
    "        \n",
    "    elif letter == ' ':\n",
    "        space += 1\n",
    "    \n",
    "    elif letter == ',' or letter == '.' or letter == '!' or letter == '?' or letter == ';' or letter == ':'or letter == '-' or letter == '_' :\n",
    "        punctuation += 1\n",
    "        \n",
    "    else:\n",
    "        special += 1\n",
    "        \n",
    "space += 1   \n",
    "        \n",
    "print('\\nCounter table:')\n",
    "print('Words: ' + str(space))\n",
    "print('Vowels: '+ str(vowel))\n",
    "print('Consonants: ' + str(consonant))\n",
    "print('Punctuation: ' + str(punctuation))"
   ]
  },
  {
   "cell_type": "code",
   "execution_count": 2,
   "metadata": {},
   "outputs": [
    {
     "name": "stdout",
     "output_type": "stream",
     "text": [
      "Enter the upper limit: 8\n",
      "The fibonacci numbers in range are\n",
      "4   6   7   "
     ]
    }
   ],
   "source": [
    "n = int(input ('Enter the upper limit: '))\n",
    "term1 = 1\n",
    "term2 = 1\n",
    "fibo = []\n",
    "print('The fibonacci numbers in range are')\n",
    "while term1 <= n:\n",
    "    fibo.append(term1)\n",
    "    nextTerm = term1 + term2\n",
    "    term1 = term2\n",
    "    term2 = nextTerm\n",
    "    \n",
    "for i in range (1, n + 1):\n",
    "    if(i in fibo):\n",
    "        continue\n",
    "    else:\n",
    "        print(str(i)+ '  ', end = ' ')"
   ]
  },
  {
   "cell_type": "markdown",
   "metadata": {},
   "source": [
    "## Questionnaires\n",
    "\n",
    "3. Explain the output of the following snippet, if the inputted value is 25.\n",
    "    x=input(“Enter a number: ”)\n",
    "    print(x*3)\n",
    "\n",
    "Ans. Here the input 25 is considered as a string and while printing thrice the string it actually prints the entire string \"25\" thrice. Thus the output is \"252525\"\n",
    "\n",
    "\n",
    "4. Explain, with an example, how an equivalent of switch case be implemented in Python.\n",
    "\n",
    "Ans. Switch case can be replaced in python 3 in two ways. For calling up some function if-else conditioning is most effective, whereas in case of finding some key values, Dictionary is best suited.\n",
    "\n",
    "For example:\n",
    "In case of calling a function:\n",
    "\n",
    "if choice == '1':\n",
    "    \n",
    "    sum(a, b)\n",
    "\n",
    "elif choice == '2':\n",
    "    \n",
    "    diff(a, b)\n",
    "\n",
    "elif choice == '3':\n",
    "   \n",
    "    mul(a, b)\n",
    "\n",
    "elif choice == '4':\n",
    "    \n",
    "    div(a, b)\n",
    "\n",
    "else:\n",
    "    \n",
    "    print('Thank you!')\n",
    "\n",
    "\n",
    "In case of finding a key:\n",
    "\n",
    "\n",
    "switcher = { 0: \"zero\", 1: \"one\", 2: \"two\"} \n",
    "\n",
    "switcher. get(argument, \"nothing\")\n",
    "\n",
    "\n",
    "In case of function calling switcher dictionary mapping can also be used with declaration of function."
   ]
  }
 ],
 "metadata": {
  "kernelspec": {
   "display_name": "Python 3",
   "language": "python",
   "name": "python3"
  },
  "language_info": {
   "codemirror_mode": {
    "name": "ipython",
    "version": 3
   },
   "file_extension": ".py",
   "mimetype": "text/x-python",
   "name": "python",
   "nbconvert_exporter": "python",
   "pygments_lexer": "ipython3",
   "version": "3.8.3"
  }
 },
 "nbformat": 4,
 "nbformat_minor": 4
}
