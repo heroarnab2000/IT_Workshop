{
 "cells": [
  {
   "cell_type": "markdown",
   "metadata": {},
   "source": [
    "# Assignment 2 implemented in try except block"
   ]
  },
  {
   "cell_type": "code",
   "execution_count": 1,
   "metadata": {},
   "outputs": [
    {
     "name": "stdout",
     "output_type": "stream",
     "text": [
      "Enter 1st number: Arnab\n",
      "--Input error--\n"
     ]
    }
   ],
   "source": [
    "try:\n",
    "    x = int(input('Enter 1st number: '))\n",
    "    y = int(input('Enter 2nd number: '))\n",
    "    if x == y:\n",
    "        print('Equal')\n",
    "    elif x > y:\n",
    "        print('Number 2 < Number 1')\n",
    "    else:\n",
    "        print('Number 2 > Number 1')\n",
    "        \n",
    "except:\n",
    "    print('--Input error--')"
   ]
  },
  {
   "cell_type": "code",
   "execution_count": 2,
   "metadata": {},
   "outputs": [
    {
     "name": "stdout",
     "output_type": "stream",
     "text": [
      "Enter rate: 10\n",
      "Enter hours: Twenty\n",
      "--Input error--\n"
     ]
    }
   ],
   "source": [
    "try:\n",
    "    rate = int(input('Enter rate: '))\n",
    "    hours = int(input('Enter hours: '))\n",
    "    if hours<= 40:\n",
    "        pay = hours * rate\n",
    "    else:\n",
    "        pay = 40 * rate + 1.5 * rate * (hours - 40)\n",
    "    print('Pay:',pay)\n",
    "    \n",
    "except:\n",
    "    print('--Input error--')"
   ]
  },
  {
   "cell_type": "code",
   "execution_count": 3,
   "metadata": {},
   "outputs": [
    {
     "name": "stdout",
     "output_type": "stream",
     "text": [
      "Score: C\n",
      "!!Wrong input!!\n"
     ]
    }
   ],
   "source": [
    "try:\n",
    "    x = float(input('Score: '))\n",
    "\n",
    "    if x > 1.0 or x < 0.0:\n",
    "        print('Error')\n",
    "    elif x >= 0.9:\n",
    "        print('A')\n",
    "    elif x >= 0.8 and x < 0.9:\n",
    "        print('B')\n",
    "    elif x >= 0.7 and x < 0.8:\n",
    "        print('C')\n",
    "    elif x >= 0.6 and x < 0.7:\n",
    "        print('D')\n",
    "    else:\n",
    "        print('F')\n",
    "        \n",
    "except:\n",
    "    print('!!Wrong input!!')"
   ]
  },
  {
   "cell_type": "code",
   "execution_count": 4,
   "metadata": {},
   "outputs": [
    {
     "name": "stdout",
     "output_type": "stream",
     "text": [
      "Enter the temperature: %%C\n",
      "!!Temperature should be in numbers followed by 'C' or 'F'!!\n"
     ]
    }
   ],
   "source": [
    "try:\n",
    "    i = input('Enter the temperature: ')\n",
    "    temp = float(i[:-1])\n",
    "    deg = i[-1]\n",
    "\n",
    "    if(deg == 'C'):\n",
    "        print('The temperature in Fahrenheit:', ((temp) * 1.8) + 32)\n",
    "\n",
    "    if(deg == 'F'):\n",
    "        print('The temperature in Celsius:', ((temp) * 5/9) - 32)\n",
    "        \n",
    "except ValueError:\n",
    "    print(\"!!Temperature should be in numbers followed by 'C' or 'F'!!\")\n",
    "    \n",
    "except:\n",
    "    print('--Wrong input--')"
   ]
  },
  {
   "cell_type": "code",
   "execution_count": 5,
   "metadata": {},
   "outputs": [
    {
     "name": "stdout",
     "output_type": "stream",
     "text": [
      "Enter a number: W\n",
      "--Input should be a valid number--\n"
     ]
    }
   ],
   "source": [
    "try:\n",
    "    num = int(input('Enter a number: '))\n",
    "    if(num == 0):\n",
    "        print('Zero')\n",
    "    elif(num > 0):\n",
    "        print('Positive')\n",
    "    else:\n",
    "        print('Negative')\n",
    "        \n",
    "except:\n",
    "    print('--Input should be a valid number--')"
   ]
  },
  {
   "cell_type": "code",
   "execution_count": 6,
   "metadata": {},
   "outputs": [
    {
     "name": "stdout",
     "output_type": "stream",
     "text": [
      "Enter a number: TC\n",
      "--Input should be a valid number--\n"
     ]
    }
   ],
   "source": [
    "try:\n",
    "    num = int(input('Enter a number: '))\n",
    "    if(num % 2 == 0):\n",
    "        print('Even')\n",
    "    else:\n",
    "        print('Odd')\n",
    "        \n",
    "except:\n",
    "    print('--Input should be a valid number--')"
   ]
  },
  {
   "cell_type": "code",
   "execution_count": 7,
   "metadata": {},
   "outputs": [
    {
     "name": "stdout",
     "output_type": "stream",
     "text": [
      "Enter 1st number: 2\n",
      "Enter 2nd number: 6\n",
      "Enter 3rd number: T\n",
      "--Inputs should be valid numbers--\n"
     ]
    }
   ],
   "source": [
    "try:\n",
    "    num1, num2, num3 = int(input('Enter 1st number: ')), int(input('Enter 2nd number: ')), int(input('Enter 3rd number: '))\n",
    "\n",
    "    arr = [num1, num2, num3]\n",
    "    print('Maximum:', max(arr))\n",
    "    print('Minimum:', min(arr))\n",
    "    \n",
    "except:\n",
    "    print('--Inputs should be valid numbers--')"
   ]
  },
  {
   "cell_type": "code",
   "execution_count": 8,
   "metadata": {},
   "outputs": [
    {
     "name": "stdout",
     "output_type": "stream",
     "text": [
      "Enter the number: 74HC08\n",
      "--Input should be a valid number--\n"
     ]
    }
   ],
   "source": [
    "try:\n",
    "    num = input('Enter the number: ')\n",
    "    sum = 0\n",
    "    for d in num:\n",
    "         sum += int(d)**3\n",
    "\n",
    "    if(sum == int(num)):\n",
    "        print('Armstrong number')\n",
    "\n",
    "    else:\n",
    "        print('Not Armstrong number')\n",
    "        \n",
    "except:\n",
    "    print('--Input should be a valid number--')"
   ]
  }
 ],
 "metadata": {
  "kernelspec": {
   "display_name": "Python 3",
   "language": "python",
   "name": "python3"
  },
  "language_info": {
   "codemirror_mode": {
    "name": "ipython",
    "version": 3
   },
   "file_extension": ".py",
   "mimetype": "text/x-python",
   "name": "python",
   "nbconvert_exporter": "python",
   "pygments_lexer": "ipython3",
   "version": "3.8.3"
  }
 },
 "nbformat": 4,
 "nbformat_minor": 4
}
