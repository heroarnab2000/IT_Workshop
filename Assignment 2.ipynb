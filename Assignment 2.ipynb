{
 "cells": [
  {
   "cell_type": "code",
   "execution_count": 1,
   "metadata": {},
   "outputs": [
    {
     "name": "stdout",
     "output_type": "stream",
     "text": [
      "Enter 1st number: 19\n",
      "Enter 2nd number: 20\n",
      "Number 2 > Number 1\n"
     ]
    }
   ],
   "source": [
    "x = input('Enter 1st number: ')\n",
    "y = input('Enter 2nd number: ')\n",
    "if x == y:\n",
    "    print('Equal')\n",
    "elif x > y:\n",
    "    print('Number 2 < Number 1')\n",
    "else:\n",
    "    print('Number 2 > Number 1')"
   ]
  },
  {
   "cell_type": "code",
   "execution_count": 2,
   "metadata": {},
   "outputs": [
    {
     "name": "stdout",
     "output_type": "stream",
     "text": [
      "Enter rate: 80\n",
      "Enter hours: 48\n",
      "Pay: 4160.0\n"
     ]
    }
   ],
   "source": [
    "rate = int(input('Enter rate: '))\n",
    "hours = int(input('Enter hours: '))\n",
    "if hours<= 40:\n",
    "    pay = hours * rate\n",
    "else:\n",
    "    pay = 40 * rate + 1.5 * rate * (hours - 40)\n",
    "print('Pay:',pay)"
   ]
  },
  {
   "cell_type": "code",
   "execution_count": 4,
   "metadata": {},
   "outputs": [
    {
     "name": "stdout",
     "output_type": "stream",
     "text": [
      "Score: 0.9\n",
      "A\n"
     ]
    }
   ],
   "source": [
    "x = float(input('Score: '))\n",
    "\n",
    "if x > 1.0 or x < 0.0:\n",
    "    print('Error')\n",
    "elif x >= 0.9:\n",
    "    print('A')\n",
    "elif x >= 0.8 and x < 0.9:\n",
    "    print('B')\n",
    "elif x >= 0.7 and x < 0.8:\n",
    "    print('C')\n",
    "elif x >= 0.6 and x < 0.7:\n",
    "    print('D')\n",
    "else:\n",
    "    print('F')"
   ]
  },
  {
   "cell_type": "code",
   "execution_count": 5,
   "metadata": {},
   "outputs": [
    {
     "name": "stdout",
     "output_type": "stream",
     "text": [
      "Enter the temperature: 25.0C\n",
      "The temperature in Fahrenheit: 77.0\n"
     ]
    }
   ],
   "source": [
    "i = input('Enter the temperature: ')\n",
    "temp = i[:-1]\n",
    "deg = i[-1]\n",
    "\n",
    "if(deg == 'C'):\n",
    "    print('The temperature in Fahrenheit:', (float(temp) * 1.8) + 32)\n",
    "\n",
    "elif(deg == 'F'):\n",
    "    print('The temperature in Celsius:', (float(temp) * 5/9) - 32)\n",
    "    \n",
    "else:\n",
    "    print('Invalid or un-specified degree')"
   ]
  },
  {
   "cell_type": "code",
   "execution_count": 6,
   "metadata": {},
   "outputs": [
    {
     "name": "stdout",
     "output_type": "stream",
     "text": [
      "Enter a number: -32\n",
      "Negative\n"
     ]
    }
   ],
   "source": [
    "num = int(input('Enter a number: '))\n",
    "if(num == 0):\n",
    "    print('Zero')\n",
    "elif(num > 0):\n",
    "    print('Positive')\n",
    "else:\n",
    "    print('Negative')"
   ]
  },
  {
   "cell_type": "code",
   "execution_count": 7,
   "metadata": {},
   "outputs": [
    {
     "name": "stdout",
     "output_type": "stream",
     "text": [
      "Enter a number: 49\n",
      "Odd\n"
     ]
    }
   ],
   "source": [
    "num = int(input('Enter a number: '))\n",
    "if(num % 2 == 0):\n",
    "    print('Even')\n",
    "else:\n",
    "    print('Odd')"
   ]
  },
  {
   "cell_type": "code",
   "execution_count": 8,
   "metadata": {},
   "outputs": [
    {
     "name": "stdout",
     "output_type": "stream",
     "text": [
      "Enter 1st number: 5\n",
      "Enter 2nd number: 6\n",
      "Enter 3rd number: 7\n",
      "Maximum: 7\n",
      "Minimum: 5\n"
     ]
    }
   ],
   "source": [
    "num1, num2, num3 = int(input('Enter 1st number: ')), int(input('Enter 2nd number: ')), int(input('Enter 3rd number: '))\n",
    "\n",
    "arr = [num1, num2, num3]\n",
    "print('Maximum:', max(arr))\n",
    "print('Minimum:', min(arr))"
   ]
  },
  {
   "cell_type": "code",
   "execution_count": 9,
   "metadata": {},
   "outputs": [
    {
     "name": "stdout",
     "output_type": "stream",
     "text": [
      "Enter hours: two\n",
      "Error, please enter numeric input\n"
     ]
    }
   ],
   "source": [
    "try:\n",
    "    hours = int(input('Enter hours: '))\n",
    "    rate = float(input('Enter rate per hour: '))\n",
    "    print('The gross payment: ', hours*rate)\n",
    "    \n",
    "except:\n",
    "    print('Error, please enter numeric input')"
   ]
  },
  {
   "cell_type": "code",
   "execution_count": 10,
   "metadata": {},
   "outputs": [
    {
     "name": "stdout",
     "output_type": "stream",
     "text": [
      "Enter the number: 153\n",
      "Armstrong number\n"
     ]
    }
   ],
   "source": [
    "num = input('Enter the number: ')\n",
    "sum = 0\n",
    "for d in num:\n",
    "     sum += int(d)**3\n",
    "\n",
    "if(sum == int(num)):\n",
    "    print('Armstrong number')\n",
    "\n",
    "else:\n",
    "    print('Not Armstrong number')"
   ]
  }
 ],
 "metadata": {
  "kernelspec": {
   "display_name": "Python 3",
   "language": "python",
   "name": "python3"
  },
  "language_info": {
   "codemirror_mode": {
    "name": "ipython",
    "version": 3
   },
   "file_extension": ".py",
   "mimetype": "text/x-python",
   "name": "python",
   "nbconvert_exporter": "python",
   "pygments_lexer": "ipython3",
   "version": "3.8.3"
  }
 },
 "nbformat": 4,
 "nbformat_minor": 4
}
