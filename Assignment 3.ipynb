{
 "cells": [
  {
   "cell_type": "markdown",
   "metadata": {},
   "source": [
    "# Assignment on loops\n",
    "\n",
    "### Name: Arnab Das       Roll: 17        CSE 2nd Year\n",
    "\n",
    "\n",
    "\n"
   ]
  },
  {
   "cell_type": "code",
   "execution_count": 1,
   "metadata": {},
   "outputs": [
    {
     "name": "stdout",
     "output_type": "stream",
     "text": [
      "Enter the number of inputs: 5\n",
      "Enter the numbers:\n",
      "6\n",
      "4\n",
      "8\n",
      "9\n",
      "1\n",
      "Sum:  28\n"
     ]
    }
   ],
   "source": [
    "n = int(input('Enter the number of inputs: '))\n",
    "s = 0\n",
    "print('Enter the numbers:')\n",
    "for i in range (0, n):\n",
    "    s = s + int(input())\n",
    "    \n",
    "print('Sum: ', s)"
   ]
  },
  {
   "cell_type": "code",
   "execution_count": 2,
   "metadata": {},
   "outputs": [
    {
     "name": "stdout",
     "output_type": "stream",
     "text": [
      "Enter the number: 87\n",
      "Not Prime Number\n"
     ]
    }
   ],
   "source": [
    "n = int(input('Enter the number: '))\n",
    "fact = 0\n",
    "if n > 2:\n",
    "    for i in range(2, n):\n",
    "        if(n % i == 0): fact = fact + 1\n",
    "    \n",
    "    if fact == 0: print('Prime Number')\n",
    "    else: print('Not Prime Number')\n",
    "    \n",
    "else:\n",
    "    print('Prime Number')"
   ]
  },
  {
   "cell_type": "code",
   "execution_count": 5,
   "metadata": {},
   "outputs": [
    {
     "name": "stdout",
     "output_type": "stream",
     "text": [
      "Enter the number: 153\n",
      "Armstrong Number\n"
     ]
    }
   ],
   "source": [
    "n = input('Enter the number: ')\n",
    "pro = 0\n",
    "for dig in n:\n",
    "    pro = pro + int(dig)**len(n)\n",
    "    \n",
    "if pro == int(n): print('Armstrong Number')\n",
    "else: print('Not Armstrong Number')"
   ]
  },
  {
   "cell_type": "code",
   "execution_count": 6,
   "metadata": {},
   "outputs": [
    {
     "name": "stdout",
     "output_type": "stream",
     "text": [
      "Prime numbers in range of 1 to 1000 are\n",
      "2\t3\t5\t7\t11\t13\t17\t19\t23\t29\t31\t37\t41\t43\t47\t53\t59\t61\t67\t71\t73\t79\t83\t89\t97\t101\t103\t107\t109\t113\t127\t131\t137\t139\t149\t151\t157\t163\t167\t173\t179\t181\t191\t193\t197\t199\t211\t223\t227\t229\t233\t239\t241\t251\t257\t263\t269\t271\t277\t281\t283\t293\t307\t311\t313\t317\t331\t337\t347\t349\t353\t359\t367\t373\t379\t383\t389\t397\t401\t409\t419\t421\t431\t433\t439\t443\t449\t457\t461\t463\t467\t479\t487\t491\t499\t503\t509\t521\t523\t541\t547\t557\t563\t569\t571\t577\t587\t593\t599\t601\t607\t613\t617\t619\t631\t641\t643\t647\t653\t659\t661\t673\t677\t683\t691\t701\t709\t719\t727\t733\t739\t743\t751\t757\t761\t769\t773\t787\t797\t809\t811\t821\t823\t827\t829\t839\t853\t857\t859\t863\t877\t881\t883\t887\t907\t911\t919\t929\t937\t941\t947\t953\t967\t971\t977\t983\t991\t997\t"
     ]
    }
   ],
   "source": [
    "import sympy as sp\n",
    "print('Prime numbers in range of 1 to 1000 are')\n",
    "for n in range(1, 1000):\n",
    "    if sp.isprime(n): print(n, end = '\\t')"
   ]
  },
  {
   "cell_type": "code",
   "execution_count": 7,
   "metadata": {},
   "outputs": [
    {
     "name": "stdout",
     "output_type": "stream",
     "text": [
      "The fibonacci numbers in range of 1 to 1000 are\n",
      "1\t2\t4\t8\t16\t32\t64\t128\t256\t512\t"
     ]
    }
   ],
   "source": [
    "s = 1\n",
    "term = 1\n",
    "print('The fibonacci numbers in range of 1 to 1000 are')\n",
    "while s <= 1000:\n",
    "    print(s, end = '\\t')\n",
    "    s = s + term\n",
    "    term = s"
   ]
  },
  {
   "cell_type": "code",
   "execution_count": 8,
   "metadata": {},
   "outputs": [
    {
     "name": "stdout",
     "output_type": "stream",
     "text": [
      "Enter the number: 6\n",
      "Enter the number: 8\n",
      "Enter the number: 4\n",
      "Enter the number: 7\n",
      "Enter the number: 4\n",
      "Enter the number: hi\n",
      "Invalid Input\n",
      "Enter the number: 5\n",
      "Enter the number: hello\n",
      "Invalid Input\n",
      "Enter the number: 8\n",
      "Enter the number: done\n",
      "Reached end of input\n",
      "Total: 42.0\tCount: 7\tAverage: 6.00\n"
     ]
    }
   ],
   "source": [
    "n = 0\n",
    "s = 0.0\n",
    "\n",
    "while True:\n",
    "    num = input('Enter the number: ')\n",
    "    \n",
    "    if num == 'done':\n",
    "        break\n",
    "    \n",
    "    try:\n",
    "        number = float(num)\n",
    "        \n",
    "    except:\n",
    "        print('Invalid Input')\n",
    "        continue\n",
    "    \n",
    "    n = n + 1\n",
    "    s = s + number\n",
    "    \n",
    "print('Reached end of input')\n",
    "print('Total: {}\\tCount: {}\\tAverage: {:.2f}'.format(s, n, s/n))"
   ]
  },
  {
   "cell_type": "code",
   "execution_count": 9,
   "metadata": {},
   "outputs": [
    {
     "name": "stdout",
     "output_type": "stream",
     "text": [
      "Enter numbers and end with \"done\"\n",
      "6\n",
      "8\n",
      "hi\n",
      "Invalid Input\n",
      "4\n",
      "7\n",
      "4\n",
      "KKR\n",
      "Invalid Input\n",
      "5\n",
      "7\n",
      "8\n",
      "done\n",
      "Reached end of input\n",
      "Maximum: 8\tMinimum: 4\tAverage: 6.12\n"
     ]
    }
   ],
   "source": [
    "print('Enter numbers and end with \"done\"')\n",
    "\n",
    "numbers = []\n",
    "while True:\n",
    "    num = input()\n",
    "    \n",
    "    if num == 'done':\n",
    "        break\n",
    "    \n",
    "    try:\n",
    "        number = int(num)\n",
    "        \n",
    "    except:\n",
    "        print('Invalid Input')\n",
    "        continue\n",
    "    \n",
    "    numbers.append(number)\n",
    "\n",
    "Max = max(numbers)\n",
    "Min = min(numbers)\n",
    "avg = sum(numbers)/len(numbers)\n",
    "\n",
    "print('Reached end of input')\n",
    "print('Maximum: {}\\tMinimum: {}\\tAverage: {:.2f}'.format(Max, Min, avg))"
   ]
  },
  {
   "cell_type": "code",
   "execution_count": 13,
   "metadata": {},
   "outputs": [
    {
     "name": "stdout",
     "output_type": "stream",
     "text": [
      "Enter the number of inputs: 4\n",
      "Enter the numbers:\n",
      "5\n",
      "9\n",
      "8\n",
      "7\n",
      "The entered items are:\n",
      "5\t9\t8\t7\tNo more items\n"
     ]
    }
   ],
   "source": [
    "n = int(input('Enter the number of inputs: '))\n",
    "numbers = []\n",
    "print('Enter the numbers:')\n",
    "for i in range (0, n):\n",
    "    num = int(input())\n",
    "    numbers.append(num)\n",
    "\n",
    "print('The entered items are:')\n",
    "for i in range (0, n):\n",
    "    print(numbers[i], end = '\\t')\n",
    "else:\n",
    "    print('No more items')"
   ]
  }
 ],
 "metadata": {
  "kernelspec": {
   "display_name": "Python 3",
   "language": "python",
   "name": "python3"
  },
  "language_info": {
   "codemirror_mode": {
    "name": "ipython",
    "version": 3
   },
   "file_extension": ".py",
   "mimetype": "text/x-python",
   "name": "python",
   "nbconvert_exporter": "python",
   "pygments_lexer": "ipython3",
   "version": "3.8.3"
  }
 },
 "nbformat": 4,
 "nbformat_minor": 4
}
