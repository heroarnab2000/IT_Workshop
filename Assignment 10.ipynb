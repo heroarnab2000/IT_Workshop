{
 "cells": [
  {
   "cell_type": "markdown",
   "metadata": {},
   "source": [
    "# Name: Arnab Das, Roll: 17"
   ]
  },
  {
   "cell_type": "code",
   "execution_count": null,
   "metadata": {},
   "outputs": [],
   "source": []
  },
  {
   "cell_type": "markdown",
   "metadata": {},
   "source": [
    "#### 1) Write a program in Python using function (recursive and non recursive) to generate Fibonacci series up to n th term. The n is provided as input and passed to the function."
   ]
  },
  {
   "cell_type": "code",
   "execution_count": 1,
   "metadata": {},
   "outputs": [
    {
     "name": "stdout",
     "output_type": "stream",
     "text": [
      "Enter the range of fibonacci series: 10\n",
      "Fibonacci series using recursion:\n",
      "0 1 1 2 3 5 8 13 21 34 \n",
      "Fibonacci series using non-recursive function:\n",
      "0 1 1 2 3 5 8 13 21 34 "
     ]
    }
   ],
   "source": [
    "try:\n",
    "    def rec_fibo (n):\n",
    "        if n <= 1:\n",
    "           return n\n",
    "        else:\n",
    "           return (rec_fibo (n-1) + rec_fibo (n-2))\n",
    "    \n",
    "    def fibo (n):\n",
    "        print (\"\\nFibonacci series using non-recursive function:\")\n",
    "        flag, first, second = 0, 0, 1\n",
    "        while flag < n:\n",
    "            print (first, end = \" \")\n",
    "            copy = first + second\n",
    "            first = second\n",
    "            second = copy\n",
    "            flag += 1\n",
    "\n",
    "    \n",
    "    n = int(input(\"Enter the range of fibonacci series: \"))\n",
    "    if n <= 0:\n",
    "        print (\"Enter a positive range!\")\n",
    "    else:\n",
    "        print (\"Fibonacci series using recursion:\")\n",
    "        for i in range (0, n):\n",
    "            print (rec_fibo (i), end = \" \")\n",
    "            \n",
    "        fibo (n)\n",
    "        \n",
    "except:\n",
    "    print(\"Enter a integer value as range!!\")"
   ]
  },
  {
   "cell_type": "code",
   "execution_count": null,
   "metadata": {},
   "outputs": [],
   "source": []
  },
  {
   "cell_type": "markdown",
   "metadata": {},
   "source": [
    "#### 2) Write a program in Python using function to generate Pascal’s triangle of n rows."
   ]
  },
  {
   "cell_type": "code",
   "execution_count": 2,
   "metadata": {},
   "outputs": [
    {
     "name": "stdout",
     "output_type": "stream",
     "text": [
      "Enter number of rows: 7\n",
      "               1\n",
      "             1   1\n",
      "           1   2   1\n",
      "         1   3   3   1\n",
      "       1   4   6   4   1\n",
      "     1   5   10   10   5   1\n",
      "   1   6   15   20   15   6   1\n"
     ]
    }
   ],
   "source": [
    "try:\n",
    "    def pascal (n):\n",
    "        for i in range(0, n):\n",
    "            flag = 1\n",
    "            for j in range(1, n-i):\n",
    "                print(\"  \", end = \"\")\n",
    "\n",
    "            for k in range(0, i+1):\n",
    "                print(\"  \", flag, end = \"\")\n",
    "                flag = int(flag * (i - k) / (k + 1))\n",
    "            print()\n",
    "        \n",
    "    n = int(input(\"Enter number of rows: \"))\n",
    "    pascal(n)\n",
    "        \n",
    "except:\n",
    "    print (\"Please enter a valid integer range!!\")"
   ]
  },
  {
   "cell_type": "code",
   "execution_count": null,
   "metadata": {},
   "outputs": [],
   "source": []
  },
  {
   "cell_type": "markdown",
   "metadata": {},
   "source": [
    "#### 3) Write a program in Python which will calculate GCD of n numbers using function where n is given as input."
   ]
  },
  {
   "cell_type": "code",
   "execution_count": 3,
   "metadata": {},
   "outputs": [
    {
     "name": "stdout",
     "output_type": "stream",
     "text": [
      "Enter space-seperated integers: 4 8 16 32\n",
      "The GCD of the given numbers is:  4\n"
     ]
    }
   ],
   "source": [
    "try:\n",
    "    def gcd (a, b):\n",
    "        while (b):\n",
    "            copy = b\n",
    "            b = a % b\n",
    "            a = copy\n",
    "            \n",
    "        return a\n",
    "    \n",
    "    lst = list(map(int, (input(\"Enter space-seperated integers: \").split(\" \"))))\n",
    "    g = gcd (lst[0], lst[1])\n",
    "    \n",
    "    for i in range (2, len(lst)):\n",
    "        g = gcd(g, lst[i])\n",
    "        \n",
    "    print(\"The GCD of the given numbers is: \", g)\n",
    "    \n",
    "except:\n",
    "    print(\"Please enter valid numbers!!\")"
   ]
  },
  {
   "cell_type": "code",
   "execution_count": null,
   "metadata": {},
   "outputs": [],
   "source": []
  },
  {
   "cell_type": "markdown",
   "metadata": {},
   "source": [
    "#### 4) Write a menu driven Python program to perform basic mathematical operations. All the operations are defined as functions. The user can continue operation as long the user wants. The operations are addition, subtraction, multiplication, division, and exponentiation."
   ]
  },
  {
   "cell_type": "code",
   "execution_count": 4,
   "metadata": {},
   "outputs": [
    {
     "name": "stdout",
     "output_type": "stream",
     "text": [
      "\n",
      "Enter you choice:\n",
      "1. Addition\n",
      "2. Subtraction\n",
      "3. Multiplication\n",
      "4. Division\n",
      "5. Exponentiation\n",
      "6. EXIT\n",
      "1\n",
      "Enter two numbers separated by a space: 5 6\n",
      "The sum is:  11\n",
      "\n",
      "Enter you choice:\n",
      "1. Addition\n",
      "2. Subtraction\n",
      "3. Multiplication\n",
      "4. Division\n",
      "5. Exponentiation\n",
      "6. EXIT\n",
      "2\n",
      "Enter first number (minuend): 9\n",
      "Enter second number (subtrahend): 5\n",
      "The difference is:  4\n",
      "\n",
      "Enter you choice:\n",
      "1. Addition\n",
      "2. Subtraction\n",
      "3. Multiplication\n",
      "4. Division\n",
      "5. Exponentiation\n",
      "6. EXIT\n",
      "3\n",
      "Enter two numbers separated by a space: 5 3\n",
      "The product is:  15\n",
      "\n",
      "Enter you choice:\n",
      "1. Addition\n",
      "2. Subtraction\n",
      "3. Multiplication\n",
      "4. Division\n",
      "5. Exponentiation\n",
      "6. EXIT\n",
      "4\n",
      "Enter dividend: 81\n",
      "Enter divisor: 9\n",
      "The floating quotient is: 9.0, whereas integer quotient is 9 and the remainder is 0\n",
      "\n",
      "Enter you choice:\n",
      "1. Addition\n",
      "2. Subtraction\n",
      "3. Multiplication\n",
      "4. Division\n",
      "5. Exponentiation\n",
      "6. EXIT\n",
      "4\n",
      "Enter dividend: 76\n",
      "Enter divisor: 9\n",
      "The floating quotient is: 8.444444444444445, whereas integer quotient is 8 and the remainder is 4\n",
      "\n",
      "Enter you choice:\n",
      "1. Addition\n",
      "2. Subtraction\n",
      "3. Multiplication\n",
      "4. Division\n",
      "5. Exponentiation\n",
      "6. EXIT\n",
      "5\n",
      "Enter the base number and the exponent(power, index) separated by a space: 2 10\n",
      "The result is:  1024\n",
      "\n",
      "Enter you choice:\n",
      "1. Addition\n",
      "2. Subtraction\n",
      "3. Multiplication\n",
      "4. Division\n",
      "5. Exponentiation\n",
      "6. EXIT\n",
      "56\n",
      "Wrong Input! Redirecting to main menu!!\n",
      "\n",
      "\n",
      "Enter you choice:\n",
      "1. Addition\n",
      "2. Subtraction\n",
      "3. Multiplication\n",
      "4. Division\n",
      "5. Exponentiation\n",
      "6. EXIT\n",
      "6\n",
      "Thank You!!\n"
     ]
    }
   ],
   "source": [
    "def addition ():\n",
    "    a, b = map(int, (input(\"Enter two numbers separated by a space: \").split(\" \")))\n",
    "    print(\"The sum is: \", a + b)\n",
    "\n",
    "def subtraction ():\n",
    "    a = int(input(\"Enter first number (minuend): \"))\n",
    "    b = int(input(\"Enter second number (subtrahend): \"))\n",
    "    print (\"The difference is: \", a - b)\n",
    "    \n",
    "def multiplication ():\n",
    "    a, b = map(int, (input(\"Enter two numbers separated by a space: \").split(\" \")))\n",
    "    print(\"The product is: \", a * b)\n",
    "    \n",
    "def division():\n",
    "    a = int(input(\"Enter dividend: \"))\n",
    "    b = int(input(\"Enter divisor: \"))\n",
    "    print(f\"The floating quotient is: {a / b}, whereas integer quotient is {int(a / b)} and the remainder is {a % b}\")\n",
    "    \n",
    "def exponentiation ():\n",
    "    a, b = map(int, (input(\"Enter the base number and the exponent(power, index) separated by a space: \").split(\" \")))\n",
    "    print (\"The result is: \", a ** b)\n",
    "\n",
    "\n",
    "ch = True\n",
    "while ch is True:\n",
    "    try:\n",
    "        choice = int(input(\"\\nEnter you choice:\\n1. Addition\\n2. Subtraction\\n3. Multiplication\\n4. Division\\n5. Exponentiation\\n6. EXIT\\n\"))\n",
    "\n",
    "        if choice == 1:\n",
    "            addition()\n",
    "\n",
    "        elif choice == 2:\n",
    "            subtraction()\n",
    "\n",
    "        elif choice == 3:\n",
    "            multiplication()\n",
    "\n",
    "        elif choice == 4:\n",
    "            division()\n",
    "\n",
    "        elif choice == 5:\n",
    "            exponentiation()\n",
    "\n",
    "        elif choice == 6:\n",
    "            print(\"Thank You!!\")\n",
    "            ch = False\n",
    "\n",
    "        else:\n",
    "            print(\"Wrong Input! Redirecting to main menu!!\\n\")\n",
    "\n",
    "    except:\n",
    "        print(\"Please enter valid numbers!!\")"
   ]
  },
  {
   "cell_type": "code",
   "execution_count": null,
   "metadata": {},
   "outputs": [],
   "source": []
  },
  {
   "cell_type": "markdown",
   "metadata": {},
   "source": [
    "#### 5) Write a Python program which calculates volume of a box using function. The number of arguments passed, are at most three and at least zero."
   ]
  },
  {
   "cell_type": "code",
   "execution_count": 5,
   "metadata": {},
   "outputs": [
    {
     "name": "stdout",
     "output_type": "stream",
     "text": [
      "Enter sides separated by space: 5 8\n",
      "Considering the box to be a cuboid (with only two equal edges), the volume is either 200 or 320\n"
     ]
    }
   ],
   "source": [
    "try:\n",
    "    def volume(edge1, edge2 = False, edge3 = False):\n",
    "        if edge1 == '':\n",
    "            print(\"The box doesn't exist in any dimension!!\\n\")\n",
    "        elif edge2 == False and edge3 == False:\n",
    "            print(\"Considering the box to be a cube (with equal edges), the volume is found to be: \", edge1 ** 3)\n",
    "        elif edge3 == False:\n",
    "            print(f\"Considering the box to be a cuboid (with only two equal edges), the volume is either {(edge1 ** 2) * edge2} or {(edge2 ** 2) * edge1}\")\n",
    "        else:\n",
    "            print(\"The volume of the box is: \", edge1 * edge2 * edge3)\n",
    "\n",
    "\n",
    "    s = list(input(\"Enter sides separated by space: \").split())\n",
    "    if len(s) == 0:\n",
    "        volume('')\n",
    "    elif len(s) == 1:\n",
    "        volume(int(s[0]))\n",
    "    elif len(s) == 2:\n",
    "        volume(int(s[0]), int(s[1]))\n",
    "    elif len(s) == 3:\n",
    "        volume(int(s[0]), int(s[1]), int(s[2]))\n",
    "    else:\n",
    "        print(\"Box should lie in 3D!!\")\n",
    "\n",
    "\n",
    "except:\n",
    "    print(\"Try again.\")"
   ]
  },
  {
   "cell_type": "code",
   "execution_count": null,
   "metadata": {},
   "outputs": [],
   "source": []
  },
  {
   "cell_type": "markdown",
   "metadata": {},
   "source": [
    "#### 6) Write a Python program using function which prints the name of the subjects you like to read. The total number of subjects may vary. The subject names are passed as arguments."
   ]
  },
  {
   "cell_type": "code",
   "execution_count": 6,
   "metadata": {},
   "outputs": [
    {
     "name": "stdout",
     "output_type": "stream",
     "text": [
      "Enter your name: Arnab\n",
      "Enter your favourite subjects, seperated by a space: Maths Physics Computer History\n",
      "Arnab likes to read:\n",
      "Maths Physics Computer History "
     ]
    }
   ],
   "source": [
    "def print_fav(name, subjects):\n",
    "    print(name + \" likes to read:\")\n",
    "    for items in subjects:\n",
    "        print(items, end = \" \")\n",
    "        \n",
    "print_fav(input(\"Enter your name: \"), list((input(\"Enter your favourite subjects, seperated by a space: \").split(\" \"))))"
   ]
  },
  {
   "cell_type": "code",
   "execution_count": null,
   "metadata": {},
   "outputs": [],
   "source": []
  },
  {
   "cell_type": "markdown",
   "metadata": {},
   "source": [
    "#### 7) Write a Python program using function which calculates simple interest. The rate of interest for senior citizen is 12% and for others is 10%."
   ]
  },
  {
   "cell_type": "code",
   "execution_count": 7,
   "metadata": {},
   "outputs": [
    {
     "name": "stdout",
     "output_type": "stream",
     "text": [
      "Enter the captial amount and the time limit seperated by a space: 20000 5\n",
      "Enter if you have Seniority certificate (Y/N): N\n",
      "Your interest amount is Rs.  10000.0\n"
     ]
    }
   ],
   "source": [
    "try:\n",
    "    def interest(capital, time, seniority):\n",
    "        if seniority == 'Y':\n",
    "            print(\"Your interest amount is: Rs. \", (capital * time * 0.12))\n",
    "        elif seniority == 'N':\n",
    "            print(\"Your interest amount is Rs. \", (capital * time * 0.1))\n",
    "\n",
    "    c, t = map(int, input(\"Enter the captial amount and the time limit seperated by a space: \"). split(\" \"))\n",
    "    s = input(\"Enter if you have Seniority certificate (Y/N): \")\n",
    "    interest (c, t, s)\n",
    "\n",
    "except:\n",
    "    print(\"Please enter valid inputs!!\")"
   ]
  },
  {
   "cell_type": "code",
   "execution_count": null,
   "metadata": {},
   "outputs": [],
   "source": []
  },
  {
   "cell_type": "markdown",
   "metadata": {},
   "source": [
    "#### 8) Write a Python program using function that computes P(n,r)."
   ]
  },
  {
   "cell_type": "code",
   "execution_count": 8,
   "metadata": {},
   "outputs": [
    {
     "name": "stdout",
     "output_type": "stream",
     "text": [
      "Enter the values of n and r, seperated by a space: 5 2\n",
      "5P2 = 20.0\n"
     ]
    }
   ],
   "source": [
    "import math\n",
    "try:\n",
    "    def permutation (n, r):\n",
    "        m = math.factorial(n)\n",
    "        k = math.factorial(n - r)\n",
    "\n",
    "        print (f\"{n}P{r} = {m/(k)}\")\n",
    "\n",
    "    n, r = map(int, input(\"Enter the values of n and r, seperated by a space: \"). split(\" \"))\n",
    "    permutation (n, r)\n",
    "\n",
    "except:\n",
    "    print (\"Please enter valid inputs!!\")"
   ]
  },
  {
   "cell_type": "code",
   "execution_count": null,
   "metadata": {},
   "outputs": [],
   "source": []
  },
  {
   "cell_type": "markdown",
   "metadata": {},
   "source": [
    "#### 8) Write a Python program using function that computes C(n,r)."
   ]
  },
  {
   "cell_type": "code",
   "execution_count": 9,
   "metadata": {},
   "outputs": [
    {
     "name": "stdout",
     "output_type": "stream",
     "text": [
      "Enter the values of n and r, seperated by a space: 5 2\n",
      "5C2 = 10.0\n"
     ]
    }
   ],
   "source": [
    "import math\n",
    "try:\n",
    "    def combination (n, r):\n",
    "        m = math.factorial(n)\n",
    "        k = math.factorial(r)\n",
    "        l = math.factorial(n - r)\n",
    "\n",
    "        print (f\"{n}C{r} = {m/(k*l)}\")\n",
    "\n",
    "    n, r = map(int, input(\"Enter the values of n and r, seperated by a space: \"). split(\" \"))\n",
    "    combination (n, r)\n",
    "\n",
    "except:\n",
    "    print (\"Please enter valid inputs!!\")"
   ]
  },
  {
   "cell_type": "code",
   "execution_count": null,
   "metadata": {},
   "outputs": [],
   "source": []
  },
  {
   "cell_type": "markdown",
   "metadata": {},
   "source": [
    "#### 10) Write a Python program using function which finds out maximum and minimum of three numbers."
   ]
  },
  {
   "cell_type": "code",
   "execution_count": 10,
   "metadata": {},
   "outputs": [
    {
     "name": "stdout",
     "output_type": "stream",
     "text": [
      "Enter three numbers, seperated by a space: 4 9 6\n",
      "The maximum among these numbers is:  9\n",
      "The minimum among these numbers is:  4\n"
     ]
    }
   ],
   "source": [
    "def cheat (x, y):\n",
    "    if x > y:\n",
    "        return x\n",
    "    return y\n",
    "\n",
    "def maximum (a, b, c):\n",
    "    return cheat(a, cheat(b, c))\n",
    "def minimum (a, b, c):\n",
    "    return (- cheat(-a, cheat(-b, -c)))\n",
    "\n",
    "try:\n",
    "    k, l, m = map(int, input(\"Enter three numbers, seperated by a space: \"). split(\" \"))\n",
    "    print(\"The maximum among these numbers is: \", maximum(k, l, m))\n",
    "    print(\"The minimum among these numbers is: \", minimum(k, l, m))\n",
    "    \n",
    "except:\n",
    "    print (\"Please enter valid inputs!!\")"
   ]
  },
  {
   "cell_type": "code",
   "execution_count": null,
   "metadata": {},
   "outputs": [],
   "source": []
  },
  {
   "cell_type": "markdown",
   "metadata": {},
   "source": [
    "#### 11) Write a Python program to count the number arguments passed as command line arguments and print the program name. Also print the arguments."
   ]
  },
  {
   "cell_type": "code",
   "execution_count": 11,
   "metadata": {},
   "outputs": [
    {
     "name": "stdout",
     "output_type": "stream",
     "text": [
      "Number of arguments:  2\n",
      "The program is:  C:\\Users\\India\\AppData\\Roaming\\Python\\Python38\\site-packages\\ipykernel_launcher.py\n"
     ]
    }
   ],
   "source": [
    "import sys\n",
    "if len(sys.argv) > 1:\n",
    "    print(\"Number of arguments: \", len(sys.argv[1:]))\n",
    "    print(\"The program is: \", sys.argv[0])\n",
    "else:\n",
    "    print(\"Enter a valid command!\")"
   ]
  },
  {
   "cell_type": "code",
   "execution_count": null,
   "metadata": {},
   "outputs": [],
   "source": []
  },
  {
   "cell_type": "code",
   "execution_count": null,
   "metadata": {},
   "outputs": [],
   "source": []
  }
 ],
 "metadata": {
  "kernelspec": {
   "display_name": "Python 3",
   "language": "python",
   "name": "python3"
  },
  "language_info": {
   "codemirror_mode": {
    "name": "ipython",
    "version": 3
   },
   "file_extension": ".py",
   "mimetype": "text/x-python",
   "name": "python",
   "nbconvert_exporter": "python",
   "pygments_lexer": "ipython3",
   "version": "3.8.3"
  }
 },
 "nbformat": 4,
 "nbformat_minor": 4
}
