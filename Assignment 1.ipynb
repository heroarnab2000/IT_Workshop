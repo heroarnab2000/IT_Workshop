{
 "cells": [
  {
   "cell_type": "code",
   "execution_count": 1,
   "metadata": {},
   "outputs": [
    {
     "name": "stdout",
     "output_type": "stream",
     "text": [
      "Enter name: Arnab Das\n",
      "Arnab Das\n"
     ]
    }
   ],
   "source": [
    "name = input('Enter name: ')\n",
    "print(name)"
   ]
  },
  {
   "cell_type": "code",
   "execution_count": 2,
   "metadata": {},
   "outputs": [
    {
     "name": "stdout",
     "output_type": "stream",
     "text": [
      "Enter your name: Subha\n",
      "Hello! Subha\n"
     ]
    }
   ],
   "source": [
    "name = input('Enter your name: ')\n",
    "print('Hello! '+name)"
   ]
  },
  {
   "cell_type": "code",
   "execution_count": 3,
   "metadata": {},
   "outputs": [
    {
     "name": "stdout",
     "output_type": "stream",
     "text": [
      "5\n",
      "6\n",
      "11\n"
     ]
    }
   ],
   "source": [
    "a, b = int(input ()), int(input())\n",
    "print(a+b)"
   ]
  },
  {
   "cell_type": "code",
   "execution_count": 4,
   "metadata": {},
   "outputs": [
    {
     "name": "stdout",
     "output_type": "stream",
     "text": [
      "10\n",
      "8\n",
      "2\n"
     ]
    }
   ],
   "source": [
    "a, b = int(input ()), int(input())\n",
    "print(a-b)"
   ]
  },
  {
   "cell_type": "code",
   "execution_count": 5,
   "metadata": {},
   "outputs": [
    {
     "name": "stdout",
     "output_type": "stream",
     "text": [
      "3\n",
      "9\n"
     ]
    },
    {
     "data": {
      "text/plain": [
       "27"
      ]
     },
     "execution_count": 5,
     "metadata": {},
     "output_type": "execute_result"
    }
   ],
   "source": [
    "a, b = int(input ()), int(input())\n",
    "a*b"
   ]
  },
  {
   "cell_type": "code",
   "execution_count": 6,
   "metadata": {},
   "outputs": [
    {
     "name": "stdout",
     "output_type": "stream",
     "text": [
      "9\n",
      "2\n",
      "4.5\n",
      "1\n"
     ]
    }
   ],
   "source": [
    "a, b = int(input ()), int(input())\n",
    "print(a/b)\n",
    "print(a%b)"
   ]
  },
  {
   "cell_type": "code",
   "execution_count": 7,
   "metadata": {},
   "outputs": [
    {
     "name": "stdout",
     "output_type": "stream",
     "text": [
      "8\n",
      "2\n",
      "4\n"
     ]
    }
   ],
   "source": [
    "a, b = int(input ()), int(input())\n",
    "print(int(a/b))"
   ]
  },
  {
   "cell_type": "code",
   "execution_count": 8,
   "metadata": {},
   "outputs": [
    {
     "name": "stdout",
     "output_type": "stream",
     "text": [
      "3\n",
      "4\n",
      "81\n"
     ]
    }
   ],
   "source": [
    "a, b = int(input ()), int(input())\n",
    "print(a**b)"
   ]
  },
  {
   "cell_type": "code",
   "execution_count": 9,
   "metadata": {},
   "outputs": [
    {
     "name": "stdout",
     "output_type": "stream",
     "text": [
      "Anything: Sushant Singh Rajput\n",
      "Sushant Singh Rajput\n"
     ]
    }
   ],
   "source": [
    "s = input('Anything: ')\n",
    "print(s)"
   ]
  },
  {
   "cell_type": "code",
   "execution_count": 10,
   "metadata": {},
   "outputs": [
    {
     "name": "stdout",
     "output_type": "stream",
     "text": [
      "Enter a boroshoro string: Komagatamaru Budge Budge\n",
      "K\n",
      "g\n"
     ]
    }
   ],
   "source": [
    "name = input('Enter a boroshoro string: ')\n",
    "print(name[0])\n",
    "print(name[4])"
   ]
  },
  {
   "cell_type": "code",
   "execution_count": 11,
   "metadata": {},
   "outputs": [
    {
     "name": "stdout",
     "output_type": "stream",
     "text": [
      "Hello \\x World!\n"
     ]
    }
   ],
   "source": [
    "print(r'Hello \\x World!')"
   ]
  },
  {
   "cell_type": "code",
   "execution_count": 12,
   "metadata": {},
   "outputs": [
    {
     "name": "stdout",
     "output_type": "stream",
     "text": [
      "Hello \\t India!\n"
     ]
    }
   ],
   "source": [
    "raw = r'Hello \\t India!'\n",
    "print(raw)"
   ]
  },
  {
   "cell_type": "code",
   "execution_count": 13,
   "metadata": {},
   "outputs": [
    {
     "name": "stdout",
     "output_type": "stream",
     "text": [
      "Enter a number: 69\n",
      "<class 'int'>\n",
      "<class 'str'>\n"
     ]
    },
    {
     "data": {
      "text/plain": [
       "'69'"
      ]
     },
     "execution_count": 13,
     "metadata": {},
     "output_type": "execute_result"
    }
   ],
   "source": [
    "i = int(input('Enter a number: '))\n",
    "print(type(i))\n",
    "print(type(str(i)))\n",
    "str(i)"
   ]
  },
  {
   "cell_type": "code",
   "execution_count": 14,
   "metadata": {},
   "outputs": [
    {
     "name": "stdout",
     "output_type": "stream",
     "text": [
      "Enter age: 20\n",
      "<class 'str'>\n",
      "<class 'int'>\n"
     ]
    },
    {
     "data": {
      "text/plain": [
       "20"
      ]
     },
     "execution_count": 14,
     "metadata": {},
     "output_type": "execute_result"
    }
   ],
   "source": [
    "i = input('Enter age: ')\n",
    "print(type(i))\n",
    "print(type(int(i)))\n",
    "int(i)"
   ]
  },
  {
   "cell_type": "code",
   "execution_count": 15,
   "metadata": {},
   "outputs": [
    {
     "name": "stdout",
     "output_type": "stream",
     "text": [
      "Hello World!\n"
     ]
    }
   ],
   "source": [
    "print('Hello ' + 'World!')"
   ]
  },
  {
   "cell_type": "code",
   "execution_count": 16,
   "metadata": {},
   "outputs": [
    {
     "name": "stdout",
     "output_type": "stream",
     "text": [
      "Hello World!\n"
     ]
    }
   ],
   "source": [
    "print('Hello ' , 'World!', sep = '')"
   ]
  },
  {
   "cell_type": "code",
   "execution_count": 17,
   "metadata": {},
   "outputs": [
    {
     "name": "stdout",
     "output_type": "stream",
     "text": [
      "Enter a float: 65.3\n",
      "Enter an integer: 5\n",
      "329.5\n"
     ]
    }
   ],
   "source": [
    "a, b = float(input('Enter a float: ')), int(input('Enter an integer: '))\n",
    "print(round((a*b+3), ndigits=2))"
   ]
  },
  {
   "cell_type": "code",
   "execution_count": 18,
   "metadata": {},
   "outputs": [
    {
     "name": "stdout",
     "output_type": "stream",
     "text": [
      "Enter temp in Centigrade: 25.3\n",
      "Temp in Fahrenheit:  77.53999999999999\n"
     ]
    }
   ],
   "source": [
    "cent = float(input('Enter temp in Centigrade: '))\n",
    "print('Temp in Fahrenheit: ', ((cent * 1.8) + 32) )"
   ]
  },
  {
   "cell_type": "code",
   "execution_count": 19,
   "metadata": {},
   "outputs": [
    {
     "name": "stdout",
     "output_type": "stream",
     "text": [
      "Enter hours: 5\n",
      "Enter rate per hour: 300\n",
      "The gross payment:  1500.0\n"
     ]
    }
   ],
   "source": [
    "hours = int(input('Enter hours: '))\n",
    "rate = float(input('Enter rate per hour: '))\n",
    "print('The gross payment: ', hours*rate)"
   ]
  },
  {
   "cell_type": "code",
   "execution_count": 20,
   "metadata": {},
   "outputs": [
    {
     "name": "stdout",
     "output_type": "stream",
     "text": [
      "Enter Principal amount: 5000\n",
      "Enter annual interest: 3.5\n",
      "Enter year: 1\n",
      "The total interest: 175.0\n"
     ]
    }
   ],
   "source": [
    "principal, interest, year = float(input('Enter Principal amount: ')), float(input('Enter annual interest: ')), float(input('Enter year: '))\n",
    "print('The total interest:', principal*interest*year/100)"
   ]
  },
  {
   "cell_type": "code",
   "execution_count": 21,
   "metadata": {},
   "outputs": [
    {
     "name": "stdout",
     "output_type": "stream",
     "text": [
      "Enter the coeffiecient of x^2: 1\n",
      "Enter the coefficient of x: -5\n",
      "Enter the costant: -6\n",
      "The roots are:  (6+0j) , (-1+0j)\n"
     ]
    }
   ],
   "source": [
    "import cmath\n",
    "a, b, c = int(input('Enter the coeffiecient of x^2: ')), int(input('Enter the coefficient of x: ')), int(input('Enter the costant: '))\n",
    "d = b**2 - 4*a*c\n",
    "x1 = (-b + cmath.sqrt(d)) / (2*a)\n",
    "x2 = (-b - cmath.sqrt(d)) / (2*a)\n",
    "print('The roots are: ', x1, ',', x2)"
   ]
  },
  {
   "cell_type": "code",
   "execution_count": 23,
   "metadata": {},
   "outputs": [
    {
     "name": "stdout",
     "output_type": "stream",
     "text": [
      "Enter real part of 1st number: 8\n",
      "Enter the imaginary part of 1st number: 5\n",
      "Enter real part of 2nd number: 2\n",
      "Enter the imaginary part of 2nd number: 2\n",
      "Z1 + Z2 = (10+7j)\n",
      "Z1 - Z2 = (6+3j)\n",
      "Z1 * Z2 = (6+26j)\n",
      "Z1 / Z2 = (3.25-0.75j)\n"
     ]
    }
   ],
   "source": [
    "a1, b1 = float(input('Enter real part of 1st number: ')), float(input('Enter the imaginary part of 1st number: '))\n",
    "a2, b2 = float(input('Enter real part of 2nd number: ')), float(input('Enter the imaginary part of 2nd number: '))\n",
    "\n",
    "print('Z1 + Z2 =', complex(a1,b1) + complex(a2,b2))\n",
    "print('Z1 - Z2 =', complex(a1,b1) - complex(a2,b2))\n",
    "print('Z1 * Z2 =', complex(a1,b1) * complex(a2,b2))\n",
    "print('Z1 / Z2 =', complex(a1,b1) / complex(a2,b2))"
   ]
  },
  {
   "cell_type": "code",
   "execution_count": null,
   "metadata": {},
   "outputs": [],
   "source": []
  }
 ],
 "metadata": {
  "kernelspec": {
   "display_name": "Python 3",
   "language": "python",
   "name": "python3"
  },
  "language_info": {
   "codemirror_mode": {
    "name": "ipython",
    "version": 3
   },
   "file_extension": ".py",
   "mimetype": "text/x-python",
   "name": "python",
   "nbconvert_exporter": "python",
   "pygments_lexer": "ipython3",
   "version": "3.8.3"
  }
 },
 "nbformat": 4,
 "nbformat_minor": 4
}
